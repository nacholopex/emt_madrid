{
 "cells": [
  {
   "cell_type": "markdown",
   "metadata": {},
   "source": [
    "# ETL: OFERTA AUTOBUSES ENTRE LOS AÑOS 2019 - 2021"
   ]
  },
  {
   "cell_type": "code",
   "execution_count": 1,
   "metadata": {},
   "outputs": [
    {
     "data": {
      "text/plain": [
       "'es_ES'"
      ]
     },
     "execution_count": 1,
     "metadata": {},
     "output_type": "execute_result"
    }
   ],
   "source": [
    "import pandas as pd\n",
    "import numpy as np\n",
    "import glob\n",
    "\n",
    "# Esta librería puede fallar si se ejecuta en Google Colabs y similares.\n",
    "import locale\n",
    "locale.setlocale(locale.LC_TIME, \"es_ES\") "
   ]
  },
  {
   "cell_type": "markdown",
   "metadata": {},
   "source": [
    "## Carga de los ficheros"
   ]
  },
  {
   "cell_type": "code",
   "execution_count": null,
   "metadata": {},
   "outputs": [],
   "source": [
    "files = glob.glob(\"../datos/Coches_Cuadro_Oferta_Real/*/Coches_Cuadro_Oferta_Real_*.csv\")\n",
    "\n",
    "# Read column names from file\n",
    "cols = list(pd.read_csv(files[0], sep=';',nrows=1))\n",
    "cols = list(filter(lambda col: col.strip(), cols))\n",
    "\n",
    "#Cargamos los datos y especificamos los tipos en las columnas, así como eliminar la última columna por ser vacia\n",
    "dfs = [pd.read_csv(f, header=0, sep=\";\",encoding = \"ISO-8859-1\",dtype={'Elinea':'str'},usecols=cols) for f in files]\n",
    "df = pd.concat(dfs,ignore_index=True)\n",
    "\n",
    "\n",
    "# Eliminar los datos en memeria de  los ficheros\n",
    "del dfs\n",
    "\n",
    "# Exportamos el dataframe resultante (Datos brutos, ficheros unificados).\n",
    "df.to_csv('../datos/Coches_Cuadro_Oferta_Real/autobuses_oferta_real.csv')"
   ]
  },
  {
   "cell_type": "markdown",
   "metadata": {},
   "source": [
    "## Creación de nuevas columnas e información"
   ]
  },
  {
   "cell_type": "code",
   "execution_count": 2,
   "metadata": {},
   "outputs": [
    {
     "data": {
      "text/plain": [
       "(3866436, 7)"
      ]
     },
     "execution_count": 2,
     "metadata": {},
     "output_type": "execute_result"
    }
   ],
   "source": [
    "oferta = pd.read_csv('../datos/Coches_Cuadro_Oferta_Real/autobuses_oferta_real.csv',dtype={'Elinea':'str'})\n",
    "oferta.drop(columns='Unnamed: 0',inplace=True)\n",
    "oferta.shape"
   ]
  },
  {
   "cell_type": "markdown",
   "metadata": {},
   "source": [
    "1. Columna `FServicio` en formato fecha.\n",
    "2. Nueva columna para saber si esa fecha era un día de lunes a viernes (True) o sábado y domingo (False)\n",
    "3. Completamos la columna `Coches` con 0 si alguna fila no tiene valor."
   ]
  },
  {
   "cell_type": "code",
   "execution_count": 4,
   "metadata": {},
   "outputs": [],
   "source": [
    "oferta['FServicio'] = pd.to_datetime(oferta['FServicio'], format='%d/%m/%Y')\n",
    "oferta.loc[oferta['FServicio'].dt.dayofweek > 4,'Diario'] = False\n",
    "oferta['Diario'].fillna(True,inplace=True)\n",
    "oferta['Coches'].fillna(0,inplace=True)"
   ]
  },
  {
   "cell_type": "markdown",
   "metadata": {},
   "source": [
    "Se opta por la creación de una tabla auxiliar ya que reduce el tiempo de ejecución.\n",
    "Con la tabla auxiliar es necesario solo realizar un join entre índices, reduciendo así el computo.\n",
    "\n",
    "La otra forma era realizando la siguiente operación:\n",
    "\n",
    "```python\n",
    "%%time\n",
    "oferta['fechaCorta'] = oferta['FServicio'].dt.strftime('%B.%Y')\n",
    "```\n",
    "| |Tiempo|\n",
    "|-|-|\n",
    "|CPU times: total:| 33.6 s|\n",
    "|Wall time: |38.8 s|"
   ]
  },
  {
   "cell_type": "code",
   "execution_count": 5,
   "metadata": {},
   "outputs": [
    {
     "name": "stdout",
     "output_type": "stream",
     "text": [
      "CPU times: total: 547 ms\n",
      "Wall time: 647 ms\n"
     ]
    }
   ],
   "source": [
    "%%time\n",
    "tiempos = pd.DataFrame({'FServicio': pd.date_range('2019-01-01', '2021-12-31', freq='D')})\n",
    "tiempos['fechaCorta'] = tiempos['FServicio'].dt.strftime('%B.%Y')\n",
    "if 'fechaCorta' not in oferta.columns:\n",
    "    oferta = oferta.join(tiempos.set_index('FServicio'),on='FServicio')"
   ]
  },
  {
   "cell_type": "code",
   "execution_count": null,
   "metadata": {},
   "outputs": [],
   "source": [
    "oferta.to_csv('../datos/output/oferta.csv',encoding='utf8',index=False)"
   ]
  },
  {
   "cell_type": "code",
   "execution_count": 9,
   "metadata": {},
   "outputs": [],
   "source": [
    "# https://stackoverflow.com/questions/38869778/pandas-set-column-equal-to-grouped-sum-of-another-column?noredirect=1&lq=1\n",
    "\n",
    "oferta['MediaCochesMes'] = oferta.groupby(by=['CLinea', 'fechaCorta', 'IDFranja']).Coches.transform('mean')"
   ]
  },
  {
   "cell_type": "markdown",
   "metadata": {},
   "source": [
    "### Calendar Dates GFTS\n",
    "Este archivo contiene fechas en los que el servicio ha cambiado `Laborable` a `Festivo` excepcionalmente."
   ]
  },
  {
   "cell_type": "code",
   "execution_count": 10,
   "metadata": {},
   "outputs": [],
   "source": [
    "calendar_dates = pd.read_csv('../datos/GFTS/gfts_calendar_dates.csv')\n",
    "calendar_dates['date_formated'] = pd.to_datetime(calendar_dates['date_formated'])\n",
    "calendar_festivo = calendar_dates.loc[calendar_dates['exception_type']==1,['exception_type','date_formated']]"
   ]
  },
  {
   "cell_type": "markdown",
   "metadata": {},
   "source": [
    "¿Por qué al hacer merge pasamos de tener 3.5M de filas a tener 7.5M?\n",
    "\n",
    "[Explicación de StackOverflow](https://stackoverflow.com/a/39019766)"
   ]
  },
  {
   "cell_type": "code",
   "execution_count": 11,
   "metadata": {},
   "outputs": [],
   "source": [
    "# Unimos los dataframe de oferta y calendar_festivo para cambiar a Diario=False\n",
    "# las fechas que aparezcan en este segundo dataframe.\n",
    "\n",
    "# oferta = oferta.merge(right=calendar_festivo,\\\n",
    "#                 right_on='date_formated',\\\n",
    "#                 left_on='FServicio',\\\n",
    "#                 how='left'\\\n",
    "#             ).drop(columns='date_formated')\n",
    "\n",
    "oferta = oferta.join(other=calendar_festivo.set_index('date_formated'), on='FServicio')\n",
    "oferta['Diario'] = oferta['exception_type']!=1\n",
    "oferta.drop_duplicates(inplace=True)\n",
    "oferta.drop(columns=['exception_type'],inplace=True)"
   ]
  },
  {
   "cell_type": "code",
   "execution_count": 12,
   "metadata": {},
   "outputs": [],
   "source": [
    "oferta.reset_index(drop=True, inplace=True)"
   ]
  },
  {
   "cell_type": "code",
   "execution_count": 13,
   "metadata": {},
   "outputs": [],
   "source": [
    "medias = oferta[oferta['Diario']==True].copy()"
   ]
  },
  {
   "cell_type": "code",
   "execution_count": 14,
   "metadata": {},
   "outputs": [],
   "source": [
    "oferta['MediaCochesMes_Laborables'] = oferta[oferta['Diario']==True].groupby(by=['CLinea','IDFranja','fechaCorta']).Coches.transform('mean')"
   ]
  },
  {
   "cell_type": "markdown",
   "metadata": {},
   "source": [
    "¿Por qué en algunos meses la MediaCochesMes es igual que la MediaCochesMes_Laborables?"
   ]
  },
  {
   "cell_type": "code",
   "execution_count": 15,
   "metadata": {},
   "outputs": [
    {
     "data": {
      "text/html": [
       "<div>\n",
       "<style scoped>\n",
       "    .dataframe tbody tr th:only-of-type {\n",
       "        vertical-align: middle;\n",
       "    }\n",
       "\n",
       "    .dataframe tbody tr th {\n",
       "        vertical-align: top;\n",
       "    }\n",
       "\n",
       "    .dataframe thead th {\n",
       "        text-align: right;\n",
       "    }\n",
       "</style>\n",
       "<table border=\"1\" class=\"dataframe\">\n",
       "  <thead>\n",
       "    <tr style=\"text-align: right;\">\n",
       "      <th></th>\n",
       "      <th>CLinea</th>\n",
       "      <th>Elinea</th>\n",
       "      <th>Denominacion</th>\n",
       "      <th>FServicio</th>\n",
       "      <th>IDFranja</th>\n",
       "      <th>Intervalo</th>\n",
       "      <th>Coches</th>\n",
       "      <th>Diario</th>\n",
       "      <th>fechaCorta</th>\n",
       "      <th>MediaCochesMes</th>\n",
       "      <th>MediaCochesMes_Laborables</th>\n",
       "    </tr>\n",
       "  </thead>\n",
       "  <tbody>\n",
       "    <tr>\n",
       "      <th>1696</th>\n",
       "      <td>1</td>\n",
       "      <td>1</td>\n",
       "      <td>PLAZA DE CRISTO REY - PROSPERIDAD</td>\n",
       "      <td>2019-04-01</td>\n",
       "      <td>H07</td>\n",
       "      <td>070000 - 075959</td>\n",
       "      <td>7.0</td>\n",
       "      <td>True</td>\n",
       "      <td>abril.2019</td>\n",
       "      <td>5.5</td>\n",
       "      <td>5.678571</td>\n",
       "    </tr>\n",
       "    <tr>\n",
       "      <th>1697</th>\n",
       "      <td>1</td>\n",
       "      <td>1</td>\n",
       "      <td>PLAZA DE CRISTO REY - PROSPERIDAD</td>\n",
       "      <td>2019-04-01</td>\n",
       "      <td>H08</td>\n",
       "      <td>080000 - 085959</td>\n",
       "      <td>8.0</td>\n",
       "      <td>True</td>\n",
       "      <td>abril.2019</td>\n",
       "      <td>6.5</td>\n",
       "      <td>6.678571</td>\n",
       "    </tr>\n",
       "  </tbody>\n",
       "</table>\n",
       "</div>"
      ],
      "text/plain": [
       "      CLinea Elinea                       Denominacion  FServicio IDFranja  \\\n",
       "1696       1      1  PLAZA DE CRISTO REY - PROSPERIDAD 2019-04-01      H07   \n",
       "1697       1      1  PLAZA DE CRISTO REY - PROSPERIDAD 2019-04-01      H08   \n",
       "\n",
       "            Intervalo  Coches  Diario  fechaCorta  MediaCochesMes  \\\n",
       "1696  070000 - 075959     7.0    True  abril.2019             5.5   \n",
       "1697  080000 - 085959     8.0    True  abril.2019             6.5   \n",
       "\n",
       "      MediaCochesMes_Laborables  \n",
       "1696                   5.678571  \n",
       "1697                   6.678571  "
      ]
     },
     "execution_count": 15,
     "metadata": {},
     "output_type": "execute_result"
    }
   ],
   "source": [
    "oferta[oferta['MediaCochesMes_Laborables']!=oferta['MediaCochesMes']].head(2)"
   ]
  },
  {
   "cell_type": "markdown",
   "metadata": {},
   "source": [
    "## Hora punta Madrid\n",
    "Según el informe anual de [2018 de CRTM](https://www.crtm.es/media/712934/edm18_sintesis.pdf#page=54) y la [Encuesta Sintética de Movilidad - ESM14](https://www.crtm.es/media/519661/esm_2014.pdf) las franjas horarias quedan de la siguiente manera:\n",
    "| Afluencia  | Intervalo horas | Tipo       | Información                                                    |\n",
    "| ---------  | --------------- | ---------- | -------------------------------------------------------------- |\n",
    "| Máxima     | 07:00 - 09:00   | Hora punta | Movilidad ocupacional, trabajo y estudios.                     |\n",
    "| Baja       | 10:00 - 13:00   | Hora valle |                                                                |\n",
    "| Media      | 13:00 - 15:00   | Hora punta | Movilidad ocupacional, trabajo y estudios.                     |\n",
    "| Baja       | 15:30 - 16:00   | Hora valle |                                                                |\n",
    "| Media      | 16:00 - 18:00   | Hora punta | Salida de los centros escolares o el fin de la jornada laboral.|\n",
    "| Media-Baja | 18:00 - 23:00   | Decreciente| Salida de los centros escolares o el fin de la jornada laboral.|\n",
    "\n",
    "\n",
    "_Los viajes por movilidad ocupacional, trabajo y estudios, se producen en dos periodos concretos, entre las 6h y las 9h de la mañana y entre la 13h y las 15 h de la tarde. Existe otro pico entre las 16h y las 18h relacionado con la salida de los centros escolares o el fin de la jornada laboral._\n",
    "\n",
    "\n",
    "![Distribución horaria de los viajeros según su actividad](../markdown_images/distribución_horaria_viajeros_actividad.png)"
   ]
  },
  {
   "cell_type": "code",
   "execution_count": 16,
   "metadata": {},
   "outputs": [],
   "source": [
    "horas = ['H07','H08','H09']\n",
    "\n",
    "horapunta = oferta[(oferta['IDFranja'].isin(horas))].copy()"
   ]
  },
  {
   "cell_type": "code",
   "execution_count": 19,
   "metadata": {},
   "outputs": [],
   "source": [
    "horapunta['MediaCochesDía_HoraPunta'] = horapunta.groupby(by=['CLinea', 'FServicio'],as_index=False)['Coches'].transform('mean')"
   ]
  },
  {
   "cell_type": "code",
   "execution_count": 20,
   "metadata": {},
   "outputs": [
    {
     "data": {
      "text/html": [
       "<div>\n",
       "<style scoped>\n",
       "    .dataframe tbody tr th:only-of-type {\n",
       "        vertical-align: middle;\n",
       "    }\n",
       "\n",
       "    .dataframe tbody tr th {\n",
       "        vertical-align: top;\n",
       "    }\n",
       "\n",
       "    .dataframe thead th {\n",
       "        text-align: right;\n",
       "    }\n",
       "</style>\n",
       "<table border=\"1\" class=\"dataframe\">\n",
       "  <thead>\n",
       "    <tr style=\"text-align: right;\">\n",
       "      <th></th>\n",
       "      <th>CLinea</th>\n",
       "      <th>Elinea</th>\n",
       "      <th>Denominacion</th>\n",
       "      <th>FServicio</th>\n",
       "      <th>IDFranja</th>\n",
       "      <th>Intervalo</th>\n",
       "      <th>Coches</th>\n",
       "      <th>Diario</th>\n",
       "      <th>fechaCorta</th>\n",
       "      <th>MediaCochesMes</th>\n",
       "      <th>MediaCochesMes_Laborables</th>\n",
       "      <th>MediaCochesDía_HoraPunta</th>\n",
       "    </tr>\n",
       "  </thead>\n",
       "  <tbody>\n",
       "    <tr>\n",
       "      <th>0</th>\n",
       "      <td>1</td>\n",
       "      <td>1</td>\n",
       "      <td>PLAZA DE CRISTO REY - PROSPERIDAD</td>\n",
       "      <td>2019-01-01</td>\n",
       "      <td>H07</td>\n",
       "      <td>070000 - 075959</td>\n",
       "      <td>2.0</td>\n",
       "      <td>True</td>\n",
       "      <td>enero.2019</td>\n",
       "      <td>5.580645</td>\n",
       "      <td>5.580645</td>\n",
       "      <td>2.666667</td>\n",
       "    </tr>\n",
       "    <tr>\n",
       "      <th>1</th>\n",
       "      <td>1</td>\n",
       "      <td>1</td>\n",
       "      <td>PLAZA DE CRISTO REY - PROSPERIDAD</td>\n",
       "      <td>2019-01-01</td>\n",
       "      <td>H08</td>\n",
       "      <td>080000 - 085959</td>\n",
       "      <td>3.0</td>\n",
       "      <td>True</td>\n",
       "      <td>enero.2019</td>\n",
       "      <td>6.580645</td>\n",
       "      <td>6.580645</td>\n",
       "      <td>2.666667</td>\n",
       "    </tr>\n",
       "    <tr>\n",
       "      <th>2</th>\n",
       "      <td>1</td>\n",
       "      <td>1</td>\n",
       "      <td>PLAZA DE CRISTO REY - PROSPERIDAD</td>\n",
       "      <td>2019-01-01</td>\n",
       "      <td>H09</td>\n",
       "      <td>090000 - 095959</td>\n",
       "      <td>3.0</td>\n",
       "      <td>True</td>\n",
       "      <td>enero.2019</td>\n",
       "      <td>7.387097</td>\n",
       "      <td>7.387097</td>\n",
       "      <td>2.666667</td>\n",
       "    </tr>\n",
       "    <tr>\n",
       "      <th>19</th>\n",
       "      <td>1</td>\n",
       "      <td>1</td>\n",
       "      <td>PLAZA DE CRISTO REY - PROSPERIDAD</td>\n",
       "      <td>2019-01-02</td>\n",
       "      <td>H07</td>\n",
       "      <td>070000 - 075959</td>\n",
       "      <td>6.0</td>\n",
       "      <td>True</td>\n",
       "      <td>enero.2019</td>\n",
       "      <td>5.580645</td>\n",
       "      <td>5.580645</td>\n",
       "      <td>7.000000</td>\n",
       "    </tr>\n",
       "    <tr>\n",
       "      <th>20</th>\n",
       "      <td>1</td>\n",
       "      <td>1</td>\n",
       "      <td>PLAZA DE CRISTO REY - PROSPERIDAD</td>\n",
       "      <td>2019-01-02</td>\n",
       "      <td>H08</td>\n",
       "      <td>080000 - 085959</td>\n",
       "      <td>7.0</td>\n",
       "      <td>True</td>\n",
       "      <td>enero.2019</td>\n",
       "      <td>6.580645</td>\n",
       "      <td>6.580645</td>\n",
       "      <td>7.000000</td>\n",
       "    </tr>\n",
       "  </tbody>\n",
       "</table>\n",
       "</div>"
      ],
      "text/plain": [
       "    CLinea Elinea                       Denominacion  FServicio IDFranja  \\\n",
       "0        1      1  PLAZA DE CRISTO REY - PROSPERIDAD 2019-01-01      H07   \n",
       "1        1      1  PLAZA DE CRISTO REY - PROSPERIDAD 2019-01-01      H08   \n",
       "2        1      1  PLAZA DE CRISTO REY - PROSPERIDAD 2019-01-01      H09   \n",
       "19       1      1  PLAZA DE CRISTO REY - PROSPERIDAD 2019-01-02      H07   \n",
       "20       1      1  PLAZA DE CRISTO REY - PROSPERIDAD 2019-01-02      H08   \n",
       "\n",
       "          Intervalo  Coches  Diario  fechaCorta  MediaCochesMes  \\\n",
       "0   070000 - 075959     2.0    True  enero.2019        5.580645   \n",
       "1   080000 - 085959     3.0    True  enero.2019        6.580645   \n",
       "2   090000 - 095959     3.0    True  enero.2019        7.387097   \n",
       "19  070000 - 075959     6.0    True  enero.2019        5.580645   \n",
       "20  080000 - 085959     7.0    True  enero.2019        6.580645   \n",
       "\n",
       "    MediaCochesMes_Laborables  MediaCochesDía_HoraPunta  \n",
       "0                    5.580645                  2.666667  \n",
       "1                    6.580645                  2.666667  \n",
       "2                    7.387097                  2.666667  \n",
       "19                   5.580645                  7.000000  \n",
       "20                   6.580645                  7.000000  "
      ]
     },
     "execution_count": 20,
     "metadata": {},
     "output_type": "execute_result"
    }
   ],
   "source": [
    "horapunta.head(5)"
   ]
  },
  {
   "cell_type": "code",
   "execution_count": 21,
   "metadata": {},
   "outputs": [],
   "source": [
    "horapunta['MediaCochesMes_HoraPunta'] = horapunta.groupby(by=['CLinea', 'fechaCorta'],as_index=False)['Coches'].transform('mean')"
   ]
  },
  {
   "cell_type": "code",
   "execution_count": 23,
   "metadata": {},
   "outputs": [],
   "source": [
    "horapunta['MediaCochesMes_HoraPuntaLaborables'] = horapunta[horapunta['Diario']==True].groupby(by=['CLinea', 'fechaCorta'],as_index=False)['Coches'].transform('mean')"
   ]
  },
  {
   "cell_type": "code",
   "execution_count": 24,
   "metadata": {},
   "outputs": [
    {
     "data": {
      "text/html": [
       "<div>\n",
       "<style scoped>\n",
       "    .dataframe tbody tr th:only-of-type {\n",
       "        vertical-align: middle;\n",
       "    }\n",
       "\n",
       "    .dataframe tbody tr th {\n",
       "        vertical-align: top;\n",
       "    }\n",
       "\n",
       "    .dataframe thead th {\n",
       "        text-align: right;\n",
       "    }\n",
       "</style>\n",
       "<table border=\"1\" class=\"dataframe\">\n",
       "  <thead>\n",
       "    <tr style=\"text-align: right;\">\n",
       "      <th></th>\n",
       "      <th>CLinea</th>\n",
       "      <th>Elinea</th>\n",
       "      <th>Denominacion</th>\n",
       "      <th>FServicio</th>\n",
       "      <th>IDFranja</th>\n",
       "      <th>Intervalo</th>\n",
       "      <th>Coches</th>\n",
       "      <th>Diario</th>\n",
       "      <th>fechaCorta</th>\n",
       "      <th>MediaCochesMes</th>\n",
       "      <th>MediaCochesMes_Laborables</th>\n",
       "      <th>MediaCochesDía_HoraPunta</th>\n",
       "      <th>MediaCochesMes_HoraPunta</th>\n",
       "      <th>MediaCochesMes_HoraPuntaLaborables</th>\n",
       "    </tr>\n",
       "  </thead>\n",
       "  <tbody>\n",
       "    <tr>\n",
       "      <th>0</th>\n",
       "      <td>1</td>\n",
       "      <td>1</td>\n",
       "      <td>PLAZA DE CRISTO REY - PROSPERIDAD</td>\n",
       "      <td>2019-01-01</td>\n",
       "      <td>H07</td>\n",
       "      <td>070000 - 075959</td>\n",
       "      <td>2.0</td>\n",
       "      <td>True</td>\n",
       "      <td>enero.2019</td>\n",
       "      <td>5.580645</td>\n",
       "      <td>5.580645</td>\n",
       "      <td>2.666667</td>\n",
       "      <td>6.516129</td>\n",
       "      <td>6.516129</td>\n",
       "    </tr>\n",
       "    <tr>\n",
       "      <th>1</th>\n",
       "      <td>1</td>\n",
       "      <td>1</td>\n",
       "      <td>PLAZA DE CRISTO REY - PROSPERIDAD</td>\n",
       "      <td>2019-01-01</td>\n",
       "      <td>H08</td>\n",
       "      <td>080000 - 085959</td>\n",
       "      <td>3.0</td>\n",
       "      <td>True</td>\n",
       "      <td>enero.2019</td>\n",
       "      <td>6.580645</td>\n",
       "      <td>6.580645</td>\n",
       "      <td>2.666667</td>\n",
       "      <td>6.516129</td>\n",
       "      <td>6.516129</td>\n",
       "    </tr>\n",
       "    <tr>\n",
       "      <th>2</th>\n",
       "      <td>1</td>\n",
       "      <td>1</td>\n",
       "      <td>PLAZA DE CRISTO REY - PROSPERIDAD</td>\n",
       "      <td>2019-01-01</td>\n",
       "      <td>H09</td>\n",
       "      <td>090000 - 095959</td>\n",
       "      <td>3.0</td>\n",
       "      <td>True</td>\n",
       "      <td>enero.2019</td>\n",
       "      <td>7.387097</td>\n",
       "      <td>7.387097</td>\n",
       "      <td>2.666667</td>\n",
       "      <td>6.516129</td>\n",
       "      <td>6.516129</td>\n",
       "    </tr>\n",
       "    <tr>\n",
       "      <th>19</th>\n",
       "      <td>1</td>\n",
       "      <td>1</td>\n",
       "      <td>PLAZA DE CRISTO REY - PROSPERIDAD</td>\n",
       "      <td>2019-01-02</td>\n",
       "      <td>H07</td>\n",
       "      <td>070000 - 075959</td>\n",
       "      <td>6.0</td>\n",
       "      <td>True</td>\n",
       "      <td>enero.2019</td>\n",
       "      <td>5.580645</td>\n",
       "      <td>5.580645</td>\n",
       "      <td>7.000000</td>\n",
       "      <td>6.516129</td>\n",
       "      <td>6.516129</td>\n",
       "    </tr>\n",
       "    <tr>\n",
       "      <th>20</th>\n",
       "      <td>1</td>\n",
       "      <td>1</td>\n",
       "      <td>PLAZA DE CRISTO REY - PROSPERIDAD</td>\n",
       "      <td>2019-01-02</td>\n",
       "      <td>H08</td>\n",
       "      <td>080000 - 085959</td>\n",
       "      <td>7.0</td>\n",
       "      <td>True</td>\n",
       "      <td>enero.2019</td>\n",
       "      <td>6.580645</td>\n",
       "      <td>6.580645</td>\n",
       "      <td>7.000000</td>\n",
       "      <td>6.516129</td>\n",
       "      <td>6.516129</td>\n",
       "    </tr>\n",
       "  </tbody>\n",
       "</table>\n",
       "</div>"
      ],
      "text/plain": [
       "    CLinea Elinea                       Denominacion  FServicio IDFranja  \\\n",
       "0        1      1  PLAZA DE CRISTO REY - PROSPERIDAD 2019-01-01      H07   \n",
       "1        1      1  PLAZA DE CRISTO REY - PROSPERIDAD 2019-01-01      H08   \n",
       "2        1      1  PLAZA DE CRISTO REY - PROSPERIDAD 2019-01-01      H09   \n",
       "19       1      1  PLAZA DE CRISTO REY - PROSPERIDAD 2019-01-02      H07   \n",
       "20       1      1  PLAZA DE CRISTO REY - PROSPERIDAD 2019-01-02      H08   \n",
       "\n",
       "          Intervalo  Coches  Diario  fechaCorta  MediaCochesMes  \\\n",
       "0   070000 - 075959     2.0    True  enero.2019        5.580645   \n",
       "1   080000 - 085959     3.0    True  enero.2019        6.580645   \n",
       "2   090000 - 095959     3.0    True  enero.2019        7.387097   \n",
       "19  070000 - 075959     6.0    True  enero.2019        5.580645   \n",
       "20  080000 - 085959     7.0    True  enero.2019        6.580645   \n",
       "\n",
       "    MediaCochesMes_Laborables  MediaCochesDía_HoraPunta  \\\n",
       "0                    5.580645                  2.666667   \n",
       "1                    6.580645                  2.666667   \n",
       "2                    7.387097                  2.666667   \n",
       "19                   5.580645                  7.000000   \n",
       "20                   6.580645                  7.000000   \n",
       "\n",
       "    MediaCochesMes_HoraPunta  MediaCochesMes_HoraPuntaLaborables  \n",
       "0                   6.516129                            6.516129  \n",
       "1                   6.516129                            6.516129  \n",
       "2                   6.516129                            6.516129  \n",
       "19                  6.516129                            6.516129  \n",
       "20                  6.516129                            6.516129  "
      ]
     },
     "execution_count": 24,
     "metadata": {},
     "output_type": "execute_result"
    }
   ],
   "source": [
    "horapunta.head(5)"
   ]
  },
  {
   "cell_type": "code",
   "execution_count": null,
   "metadata": {},
   "outputs": [],
   "source": [
    "# Cuando concateno los dos conjuntos de datos tengo que crear una nueva fila\n",
    "# para la IDFranaja => 'HoraPunta' que tenga como número de Coches => 'MediaCochesDía_HoraPunta' \n",
    "\n",
    "oferta = pd.concat([\\\n",
    "       oferta,\\\n",
    "       horapunta.loc[:,['CLinea', 'Elinea', 'Denominacion', 'FServicio', 'IDFranja','Intervalo', 'Coches', 'Diario', 'fechaCorta', 'MediaCochesMes',  'MediaCochesMes_Laborables']].drop_duplicates(subset=['CLinea','FServicio'])#.sort_values(by=['CLinea','FServicio']).reset_index(drop=True)\\\n",
    "              .assign(IDFranja='HoraPunta',Coches=horapunta['MediaCochesDía_HoraPunta'],Intervalo='070000 - 095959')]).sort_values(by=['CLinea','FServicio','IDFranja']).reset_index(drop=True)"
   ]
  },
  {
   "cell_type": "code",
   "execution_count": null,
   "metadata": {},
   "outputs": [],
   "source": [
    "# Sí haces backward y forward en líneas donde no hay franja de HoraPunta se completa con datos que no corresponden.\n",
    " \n",
    "oferta['MediaCochesMes_HoraPunta'] = oferta[(oferta['IDFranja'].isin((*horas,'HoraPunta')))].groupby(by=['CLinea','fechaCorta'])['MediaCochesMes_HoraPunta'].bfill()"
   ]
  },
  {
   "cell_type": "code",
   "execution_count": null,
   "metadata": {},
   "outputs": [],
   "source": [
    "oferta[(oferta['IDFranja'].isin((*horas,'HoraPunta')))]"
   ]
  },
  {
   "cell_type": "code",
   "execution_count": null,
   "metadata": {},
   "outputs": [],
   "source": [
    "oferta.to_csv('../datos/output/oferta_diaria_media.csv',encoding='utf8',index=False)\n",
    "medias.to_csv('datos/output/medias.csv',encoding='utf8',index=False)\n",
    "calendar_dates.drop_duplicates().reset_index(drop=True)\\\n",
    "                .to_csv('datos/output/calendario_festivos.csv',encoding='utf8',index=False)"
   ]
  },
  {
   "cell_type": "code",
   "execution_count": null,
   "metadata": {},
   "outputs": [],
   "source": [
    "oferta.to_pickle(path='../datos/output/pickles/oferta_diaria_media.pickle')\n",
    "medias.to_pickle('../datos/output/medias.pickle')\n",
    "calendar_dates.drop_duplicates().reset_index(drop=True)\\\n",
    "                .to_pickle('../datos/output/calendario_festivos.pickle')"
   ]
  }
 ],
 "metadata": {
  "kernelspec": {
   "display_name": "Python 3.9.12 ('base')",
   "language": "python",
   "name": "python3"
  },
  "language_info": {
   "codemirror_mode": {
    "name": "ipython",
    "version": 3
   },
   "file_extension": ".py",
   "mimetype": "text/x-python",
   "name": "python",
   "nbconvert_exporter": "python",
   "pygments_lexer": "ipython3",
   "version": "3.9.12"
  },
  "orig_nbformat": 4,
  "vscode": {
   "interpreter": {
    "hash": "d769fb3200fc277f8ee95a9cc724831c284e91c864b33f0c557335d16a82712c"
   }
  }
 },
 "nbformat": 4,
 "nbformat_minor": 2
}
