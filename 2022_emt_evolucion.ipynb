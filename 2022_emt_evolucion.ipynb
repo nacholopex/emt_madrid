{
 "cells": [
  {
   "cell_type": "markdown",
   "metadata": {},
   "source": [
    "Para hacer apply a un daskdataframe es necesario pasarle meta que es el tipo de datos que va a tener. https://stackoverflow.com/a/44437675"
   ]
  },
  {
   "cell_type": "code",
   "execution_count": 1,
   "metadata": {},
   "outputs": [
    {
     "data": {
      "text/plain": [
       "'es_ES'"
      ]
     },
     "execution_count": 1,
     "metadata": {},
     "output_type": "execute_result"
    }
   ],
   "source": [
    "import pandas as pd\n",
    "import numpy as np\n",
    "import glob\n",
    "import os\n",
    "from matplotlib.pyplot import figure\n",
    "import matplotlib.pyplot as plt\n",
    "# import dask.dataframe as dd # en caso de tener muchos datos\n",
    "import locale\n",
    "import re\n",
    "locale.setlocale(locale.LC_TIME, \"es_ES\") "
   ]
  },
  {
   "cell_type": "markdown",
   "metadata": {},
   "source": [
    "# Unión de los CSV"
   ]
  },
  {
   "cell_type": "code",
   "execution_count": null,
   "metadata": {},
   "outputs": [],
   "source": [
    "files = glob.glob(\"datos/Coches_Cuadro_Oferta_Real/*/Coches_Cuadro_Oferta_Real_*.csv\")\n",
    "# Read column names from file\n",
    "cols = list(pd.read_csv(files[0], sep=';',nrows=1))\n",
    "cols = list(filter(lambda col: col.strip(), cols))\n",
    "\n",
    "\n",
    "#Cargamos los datos y especificamos los tipos en las columnas, así como eliminar la última columna por ser vacia\n",
    "dfs = [pd.read_csv(f, header=0, sep=\";\",encoding = \"ISO-8859-1\",dtype={'Elinea':'str'},usecols=cols) for f in files]\n",
    "df = pd.concat(dfs,ignore_index=True)\n",
    "\n",
    "\n",
    "# Elimnar el último dataframe del último fichero de la memoria\n",
    "del dfs\n",
    "\n",
    "df.to_csv('datos/Coches_Cuadro_Oferta_Real/autobuses_oferta_real.csv')"
   ]
  },
  {
   "cell_type": "markdown",
   "metadata": {},
   "source": [
    "# Análisis"
   ]
  },
  {
   "cell_type": "code",
   "execution_count": 2,
   "metadata": {},
   "outputs": [],
   "source": [
    "oferta = pd.read_csv('datos/Coches_Cuadro_Oferta_Real/autobuses_oferta_real.csv',dtype={'Elinea':'str'})\n",
    "oferta.drop(columns='Unnamed: 0',inplace=True)"
   ]
  },
  {
   "cell_type": "markdown",
   "metadata": {},
   "source": [
    "1. Ponemos la columna `FServicio` en formato fecha\n",
    "2. Creamos una nueva columna para saber si esa fecha era un día de lunes a viernes (True) o sábado y domingo (False)\n",
    "3. Completamos la columna `Coches` con 0 si no tienen valor."
   ]
  },
  {
   "cell_type": "code",
   "execution_count": 3,
   "metadata": {},
   "outputs": [],
   "source": [
    "oferta['FServicio'] = pd.to_datetime(oferta['FServicio'], format='%d/%m/%Y')\n",
    "oferta.loc[oferta['FServicio'].dt.dayofweek > 4,'Diario'] = False\n",
    "oferta['Diario'].fillna(True,inplace=True)\n",
    "oferta['Coches'].fillna(0,inplace=True)"
   ]
  },
  {
   "cell_type": "markdown",
   "metadata": {},
   "source": [
    "Creamos una tabla auxiliar para crear una nueva columna `fechaCorta` que tendrá el mes y año de `FServicio` y la unimos con el conjunto de datos que estamos usando `oferta`"
   ]
  },
  {
   "cell_type": "code",
   "execution_count": 4,
   "metadata": {},
   "outputs": [
    {
     "data": {
      "text/html": [
       "<div>\n",
       "<style scoped>\n",
       "    .dataframe tbody tr th:only-of-type {\n",
       "        vertical-align: middle;\n",
       "    }\n",
       "\n",
       "    .dataframe tbody tr th {\n",
       "        vertical-align: top;\n",
       "    }\n",
       "\n",
       "    .dataframe thead th {\n",
       "        text-align: right;\n",
       "    }\n",
       "</style>\n",
       "<table border=\"1\" class=\"dataframe\">\n",
       "  <thead>\n",
       "    <tr style=\"text-align: right;\">\n",
       "      <th></th>\n",
       "      <th>CLinea</th>\n",
       "      <th>Elinea</th>\n",
       "      <th>Denominacion</th>\n",
       "      <th>FServicio</th>\n",
       "      <th>IDFranja</th>\n",
       "      <th>Intervalo</th>\n",
       "      <th>Coches</th>\n",
       "      <th>Diario</th>\n",
       "      <th>fechaCorta</th>\n",
       "    </tr>\n",
       "  </thead>\n",
       "  <tbody>\n",
       "    <tr>\n",
       "      <th>0</th>\n",
       "      <td>1</td>\n",
       "      <td>1</td>\n",
       "      <td>PLAZA DE CRISTO REY - PROSPERIDAD</td>\n",
       "      <td>2019-01-01</td>\n",
       "      <td>H07</td>\n",
       "      <td>070000 - 075959</td>\n",
       "      <td>2.0</td>\n",
       "      <td>True</td>\n",
       "      <td>enero.2019</td>\n",
       "    </tr>\n",
       "    <tr>\n",
       "      <th>1</th>\n",
       "      <td>1</td>\n",
       "      <td>1</td>\n",
       "      <td>PLAZA DE CRISTO REY - PROSPERIDAD</td>\n",
       "      <td>2019-01-01</td>\n",
       "      <td>H08</td>\n",
       "      <td>080000 - 085959</td>\n",
       "      <td>3.0</td>\n",
       "      <td>True</td>\n",
       "      <td>enero.2019</td>\n",
       "    </tr>\n",
       "    <tr>\n",
       "      <th>2</th>\n",
       "      <td>1</td>\n",
       "      <td>1</td>\n",
       "      <td>PLAZA DE CRISTO REY - PROSPERIDAD</td>\n",
       "      <td>2019-01-01</td>\n",
       "      <td>H09</td>\n",
       "      <td>090000 - 095959</td>\n",
       "      <td>3.0</td>\n",
       "      <td>True</td>\n",
       "      <td>enero.2019</td>\n",
       "    </tr>\n",
       "    <tr>\n",
       "      <th>3</th>\n",
       "      <td>1</td>\n",
       "      <td>1</td>\n",
       "      <td>PLAZA DE CRISTO REY - PROSPERIDAD</td>\n",
       "      <td>2019-01-01</td>\n",
       "      <td>H10</td>\n",
       "      <td>100000 - 105959</td>\n",
       "      <td>4.0</td>\n",
       "      <td>True</td>\n",
       "      <td>enero.2019</td>\n",
       "    </tr>\n",
       "    <tr>\n",
       "      <th>4</th>\n",
       "      <td>1</td>\n",
       "      <td>1</td>\n",
       "      <td>PLAZA DE CRISTO REY - PROSPERIDAD</td>\n",
       "      <td>2019-01-01</td>\n",
       "      <td>H11</td>\n",
       "      <td>110000 - 115959</td>\n",
       "      <td>4.0</td>\n",
       "      <td>True</td>\n",
       "      <td>enero.2019</td>\n",
       "    </tr>\n",
       "  </tbody>\n",
       "</table>\n",
       "</div>"
      ],
      "text/plain": [
       "   CLinea Elinea                       Denominacion  FServicio IDFranja  \\\n",
       "0       1      1  PLAZA DE CRISTO REY - PROSPERIDAD 2019-01-01      H07   \n",
       "1       1      1  PLAZA DE CRISTO REY - PROSPERIDAD 2019-01-01      H08   \n",
       "2       1      1  PLAZA DE CRISTO REY - PROSPERIDAD 2019-01-01      H09   \n",
       "3       1      1  PLAZA DE CRISTO REY - PROSPERIDAD 2019-01-01      H10   \n",
       "4       1      1  PLAZA DE CRISTO REY - PROSPERIDAD 2019-01-01      H11   \n",
       "\n",
       "         Intervalo  Coches  Diario  fechaCorta  \n",
       "0  070000 - 075959     2.0    True  enero.2019  \n",
       "1  080000 - 085959     3.0    True  enero.2019  \n",
       "2  090000 - 095959     3.0    True  enero.2019  \n",
       "3  100000 - 105959     4.0    True  enero.2019  \n",
       "4  110000 - 115959     4.0    True  enero.2019  "
      ]
     },
     "execution_count": 4,
     "metadata": {},
     "output_type": "execute_result"
    }
   ],
   "source": [
    "tiempos = pd.DataFrame({'FServicio': pd.date_range('2019-01-01', '2021-12-31', freq='D')})\n",
    "tiempos['fechaCorta'] = tiempos['FServicio'].dt.strftime('%B.%Y')\n",
    "if 'fechaCorta' not in oferta.columns:\n",
    "    oferta = oferta.join(tiempos.set_index('FServicio'),on='FServicio')\n",
    "    \n",
    "oferta.head()"
   ]
  },
  {
   "cell_type": "code",
   "execution_count": 5,
   "metadata": {},
   "outputs": [],
   "source": [
    "# https://stackoverflow.com/questions/38869778/pandas-set-column-equal-to-grouped-sum-of-another-column?noredirect=1&lq=1\n",
    "\n",
    "oferta['MediaCochesMes'] = oferta.groupby(by=['CLinea', 'fechaCorta', 'IDFranja']).Coches.transform('mean')"
   ]
  },
  {
   "cell_type": "markdown",
   "metadata": {},
   "source": [
    "# Calendar Dates GFTS\n",
    "Este archivo contiene fechas en las ha cambiado el tipo de servicio de `Laborable` a `Festivo`."
   ]
  },
  {
   "cell_type": "code",
   "execution_count": 6,
   "metadata": {},
   "outputs": [],
   "source": [
    "calendar_dates = pd.read_csv('datos/GFTS/gfts_calendar_dates.csv')\n",
    "calendar_dates['date_formated'] = pd.to_datetime(calendar_dates['date_formated'])\n",
    "calendar_festivo = calendar_dates.loc[calendar_dates['exception_type']==1,['exception_type','date_formated']]"
   ]
  },
  {
   "cell_type": "markdown",
   "metadata": {},
   "source": [
    "¿Por qué al hacer merge pasamos de tener 3.5M de filas a tener 7.5M?\n",
    "\n",
    "[Explicación de StackOverflow](https://stackoverflow.com/a/39019766)"
   ]
  },
  {
   "cell_type": "code",
   "execution_count": 7,
   "metadata": {},
   "outputs": [],
   "source": [
    "# tmp = oferta.merge(right=calendar_festivo,\\\n",
    "#                 right_on='date_formated',\\\n",
    "#                 left_on='FServicio',\\\n",
    "#                 how='left'\\\n",
    "#             ).drop(columns='date_formated')\n",
    "\n",
    "oferta = oferta.join(other=calendar_festivo.set_index('date_formated'), on='FServicio')\n",
    "oferta['Diario'] = oferta['exception_type']!=1\n",
    "oferta.drop_duplicates(inplace=True)"
   ]
  },
  {
   "cell_type": "code",
   "execution_count": 8,
   "metadata": {},
   "outputs": [],
   "source": [
    "oferta.drop(columns=['exception_type'],inplace=True)"
   ]
  },
  {
   "cell_type": "code",
   "execution_count": 9,
   "metadata": {},
   "outputs": [],
   "source": [
    "oferta.reset_index(drop=True, inplace=True)"
   ]
  },
  {
   "cell_type": "code",
   "execution_count": 10,
   "metadata": {},
   "outputs": [
    {
     "data": {
      "text/html": [
       "<div>\n",
       "<style scoped>\n",
       "    .dataframe tbody tr th:only-of-type {\n",
       "        vertical-align: middle;\n",
       "    }\n",
       "\n",
       "    .dataframe tbody tr th {\n",
       "        vertical-align: top;\n",
       "    }\n",
       "\n",
       "    .dataframe thead th {\n",
       "        text-align: right;\n",
       "    }\n",
       "</style>\n",
       "<table border=\"1\" class=\"dataframe\">\n",
       "  <thead>\n",
       "    <tr style=\"text-align: right;\">\n",
       "      <th></th>\n",
       "      <th>CLinea</th>\n",
       "      <th>Elinea</th>\n",
       "      <th>Denominacion</th>\n",
       "      <th>FServicio</th>\n",
       "      <th>IDFranja</th>\n",
       "      <th>Intervalo</th>\n",
       "      <th>Coches</th>\n",
       "      <th>Diario</th>\n",
       "      <th>fechaCorta</th>\n",
       "      <th>MediaCochesMes</th>\n",
       "    </tr>\n",
       "  </thead>\n",
       "  <tbody>\n",
       "    <tr>\n",
       "      <th>2016</th>\n",
       "      <td>1</td>\n",
       "      <td>1</td>\n",
       "      <td>PLAZA DE CRISTO REY - PROSPERIDAD</td>\n",
       "      <td>2019-04-18</td>\n",
       "      <td>H07</td>\n",
       "      <td>070000 - 075959</td>\n",
       "      <td>3.0</td>\n",
       "      <td>False</td>\n",
       "      <td>abril.2019</td>\n",
       "      <td>5.5</td>\n",
       "    </tr>\n",
       "    <tr>\n",
       "      <th>2017</th>\n",
       "      <td>1</td>\n",
       "      <td>1</td>\n",
       "      <td>PLAZA DE CRISTO REY - PROSPERIDAD</td>\n",
       "      <td>2019-04-18</td>\n",
       "      <td>H08</td>\n",
       "      <td>080000 - 085959</td>\n",
       "      <td>4.0</td>\n",
       "      <td>False</td>\n",
       "      <td>abril.2019</td>\n",
       "      <td>6.5</td>\n",
       "    </tr>\n",
       "  </tbody>\n",
       "</table>\n",
       "</div>"
      ],
      "text/plain": [
       "      CLinea Elinea                       Denominacion  FServicio IDFranja  \\\n",
       "2016       1      1  PLAZA DE CRISTO REY - PROSPERIDAD 2019-04-18      H07   \n",
       "2017       1      1  PLAZA DE CRISTO REY - PROSPERIDAD 2019-04-18      H08   \n",
       "\n",
       "            Intervalo  Coches  Diario  fechaCorta  MediaCochesMes  \n",
       "2016  070000 - 075959     3.0   False  abril.2019             5.5  \n",
       "2017  080000 - 085959     4.0   False  abril.2019             6.5  "
      ]
     },
     "execution_count": 10,
     "metadata": {},
     "output_type": "execute_result"
    }
   ],
   "source": [
    "# Comprobamos que la primera fecha del calendario pone Diario a False\n",
    "oferta[oferta['FServicio']==calendar_festivo.iloc[0,1]].head(2)"
   ]
  },
  {
   "cell_type": "code",
   "execution_count": 11,
   "metadata": {},
   "outputs": [],
   "source": [
    "# Nuevo dataframe con sólo los días que sean lunes a viernes\n",
    "# entresemana = oferta[oferta['Diario']==True].copy()\n",
    "# entresemana['MediaCochesLaborables'] = entresemana.groupby(by=['CLinea', 'fechaCorta', 'IDFranja']).Coches.transform('mean')\n",
    "\n",
    "oferta['MediaCochesLaborables'] = oferta.loc[oferta['Diario']==True,:].groupby(by=['CLinea', 'fechaCorta', 'IDFranja'])['Coches'].transform('mean')"
   ]
  },
  {
   "cell_type": "code",
   "execution_count": 12,
   "metadata": {},
   "outputs": [
    {
     "data": {
      "text/html": [
       "<div>\n",
       "<style scoped>\n",
       "    .dataframe tbody tr th:only-of-type {\n",
       "        vertical-align: middle;\n",
       "    }\n",
       "\n",
       "    .dataframe tbody tr th {\n",
       "        vertical-align: top;\n",
       "    }\n",
       "\n",
       "    .dataframe thead th {\n",
       "        text-align: right;\n",
       "    }\n",
       "</style>\n",
       "<table border=\"1\" class=\"dataframe\">\n",
       "  <thead>\n",
       "    <tr style=\"text-align: right;\">\n",
       "      <th></th>\n",
       "      <th>CLinea</th>\n",
       "      <th>Elinea</th>\n",
       "      <th>Denominacion</th>\n",
       "      <th>FServicio</th>\n",
       "      <th>IDFranja</th>\n",
       "      <th>Intervalo</th>\n",
       "      <th>Coches</th>\n",
       "      <th>Diario</th>\n",
       "      <th>fechaCorta</th>\n",
       "      <th>MediaCochesMes</th>\n",
       "      <th>MediaCochesLaborables</th>\n",
       "    </tr>\n",
       "  </thead>\n",
       "  <tbody>\n",
       "    <tr>\n",
       "      <th>0</th>\n",
       "      <td>1</td>\n",
       "      <td>1</td>\n",
       "      <td>PLAZA DE CRISTO REY - PROSPERIDAD</td>\n",
       "      <td>2019-01-01</td>\n",
       "      <td>H07</td>\n",
       "      <td>070000 - 075959</td>\n",
       "      <td>2.0</td>\n",
       "      <td>True</td>\n",
       "      <td>enero.2019</td>\n",
       "      <td>5.580645</td>\n",
       "      <td>5.580645</td>\n",
       "    </tr>\n",
       "    <tr>\n",
       "      <th>1</th>\n",
       "      <td>1</td>\n",
       "      <td>1</td>\n",
       "      <td>PLAZA DE CRISTO REY - PROSPERIDAD</td>\n",
       "      <td>2019-01-01</td>\n",
       "      <td>H08</td>\n",
       "      <td>080000 - 085959</td>\n",
       "      <td>3.0</td>\n",
       "      <td>True</td>\n",
       "      <td>enero.2019</td>\n",
       "      <td>6.580645</td>\n",
       "      <td>6.580645</td>\n",
       "    </tr>\n",
       "  </tbody>\n",
       "</table>\n",
       "</div>"
      ],
      "text/plain": [
       "   CLinea Elinea                       Denominacion  FServicio IDFranja  \\\n",
       "0       1      1  PLAZA DE CRISTO REY - PROSPERIDAD 2019-01-01      H07   \n",
       "1       1      1  PLAZA DE CRISTO REY - PROSPERIDAD 2019-01-01      H08   \n",
       "\n",
       "         Intervalo  Coches  Diario  fechaCorta  MediaCochesMes  \\\n",
       "0  070000 - 075959     2.0    True  enero.2019        5.580645   \n",
       "1  080000 - 085959     3.0    True  enero.2019        6.580645   \n",
       "\n",
       "   MediaCochesLaborables  \n",
       "0               5.580645  \n",
       "1               6.580645  "
      ]
     },
     "execution_count": 12,
     "metadata": {},
     "output_type": "execute_result"
    }
   ],
   "source": [
    "oferta.head(2)"
   ]
  },
  {
   "cell_type": "code",
   "execution_count": 13,
   "metadata": {},
   "outputs": [
    {
     "data": {
      "text/html": [
       "<div>\n",
       "<style scoped>\n",
       "    .dataframe tbody tr th:only-of-type {\n",
       "        vertical-align: middle;\n",
       "    }\n",
       "\n",
       "    .dataframe tbody tr th {\n",
       "        vertical-align: top;\n",
       "    }\n",
       "\n",
       "    .dataframe thead th {\n",
       "        text-align: right;\n",
       "    }\n",
       "</style>\n",
       "<table border=\"1\" class=\"dataframe\">\n",
       "  <thead>\n",
       "    <tr style=\"text-align: right;\">\n",
       "      <th></th>\n",
       "      <th>CLinea</th>\n",
       "      <th>Elinea</th>\n",
       "      <th>Denominacion</th>\n",
       "      <th>FServicio</th>\n",
       "      <th>IDFranja</th>\n",
       "      <th>Intervalo</th>\n",
       "      <th>Coches</th>\n",
       "      <th>Diario</th>\n",
       "      <th>fechaCorta</th>\n",
       "      <th>MediaCochesMes</th>\n",
       "      <th>MediaCochesLaborables</th>\n",
       "    </tr>\n",
       "  </thead>\n",
       "  <tbody>\n",
       "    <tr>\n",
       "      <th>1696</th>\n",
       "      <td>1</td>\n",
       "      <td>1</td>\n",
       "      <td>PLAZA DE CRISTO REY - PROSPERIDAD</td>\n",
       "      <td>2019-04-01</td>\n",
       "      <td>H07</td>\n",
       "      <td>070000 - 075959</td>\n",
       "      <td>7.0</td>\n",
       "      <td>True</td>\n",
       "      <td>abril.2019</td>\n",
       "      <td>5.5</td>\n",
       "      <td>5.678571</td>\n",
       "    </tr>\n",
       "    <tr>\n",
       "      <th>1697</th>\n",
       "      <td>1</td>\n",
       "      <td>1</td>\n",
       "      <td>PLAZA DE CRISTO REY - PROSPERIDAD</td>\n",
       "      <td>2019-04-01</td>\n",
       "      <td>H08</td>\n",
       "      <td>080000 - 085959</td>\n",
       "      <td>8.0</td>\n",
       "      <td>True</td>\n",
       "      <td>abril.2019</td>\n",
       "      <td>6.5</td>\n",
       "      <td>6.678571</td>\n",
       "    </tr>\n",
       "  </tbody>\n",
       "</table>\n",
       "</div>"
      ],
      "text/plain": [
       "      CLinea Elinea                       Denominacion  FServicio IDFranja  \\\n",
       "1696       1      1  PLAZA DE CRISTO REY - PROSPERIDAD 2019-04-01      H07   \n",
       "1697       1      1  PLAZA DE CRISTO REY - PROSPERIDAD 2019-04-01      H08   \n",
       "\n",
       "            Intervalo  Coches  Diario  fechaCorta  MediaCochesMes  \\\n",
       "1696  070000 - 075959     7.0    True  abril.2019             5.5   \n",
       "1697  080000 - 085959     8.0    True  abril.2019             6.5   \n",
       "\n",
       "      MediaCochesLaborables  \n",
       "1696               5.678571  \n",
       "1697               6.678571  "
      ]
     },
     "execution_count": 13,
     "metadata": {},
     "output_type": "execute_result"
    }
   ],
   "source": [
    "oferta[oferta['MediaCochesMes'] != oferta['MediaCochesLaborables']].head(2)"
   ]
  },
  {
   "cell_type": "markdown",
   "metadata": {},
   "source": [
    "¿La MediaCochesMes == MediaCochesLaborables en algunos meses?"
   ]
  },
  {
   "cell_type": "markdown",
   "metadata": {},
   "source": [
    "Con estas últimas operaciones hemos extendido a todas las filas que sean del mes M y del año A su valor de MediaCochesMes y MediaCochesLaborables."
   ]
  },
  {
   "cell_type": "code",
   "execution_count": 42,
   "metadata": {},
   "outputs": [],
   "source": [
    "# Función para gráficar con matplotlib la línea en la fronja que corresponda\n",
    "\n",
    "def graficar(dataset, num_linea, franja, media='MediaCochesMes', guardar=False):\n",
    "    fig, axes = plt.subplots(figsize=(10, 5),dpi=75)\n",
    "    axes.spines.right.set_visible(False)\n",
    "    axes.spines.top.set_visible(False)\n",
    "\n",
    "    # num_linea = 21\n",
    "    # franja = 'H10'\n",
    "\n",
    "    # Filtro por linea y franja\n",
    "    data = dataset[(dataset['IDFranja'] == franja) & (\n",
    "        dataset['CLinea'] == num_linea)].reset_index(drop=True)\n",
    "    if len(data) == 0:\n",
    "        listado_franjas = dataset.loc[dataset['CLinea']\n",
    "                                      == num_linea, 'IDFranja'].unique()\n",
    "        raise Exception(\n",
    "            f\"Las franjas horarias de la linea {num_linea} son: {listado_franjas}\")\n",
    "\n",
    "    lineaPublico = str(data.loc[0, \"Elinea\"])\n",
    "    cartel_linea = str(data.loc[0, \"Denominacion\"])\n",
    "\n",
    "    # Visualizo los datos (avg_coches) y fechas\n",
    "    for fecha in data['FServicio'].dt.year.unique():\n",
    "        axes.plot(data.loc[data['FServicio'].dt.year == fecha, 'fechaCorta'], data.loc[data['FServicio'].dt.year ==\n",
    "                  fecha, media], '-o', label='Franja: ' + franja + '\\nAño: '+str(fecha))\n",
    "\n",
    "    # Configuraciones visuales\n",
    "    axes.set_xticks(data['fechaCorta'])\n",
    "    axes.set_xticklabels( data['fechaCorta'], rotation=45, ha=\"right\", fontdict=dict({'color': 'grey'}))\n",
    "    axes.set_ylim([0, data['Coches'].max()+3])\n",
    "\n",
    "    xTicks = axes.get_xticklabels()\n",
    "    indices_enero = [i for i, item in enumerate(\n",
    "        data.fechaCorta) if re.search('enero|January', item)]\n",
    "    for indeceEnero in indices_enero:\n",
    "        xTicks[indeceEnero].set_color('black')\n",
    "        # axes.vlines(x=indeceEnero,ymin=0,ymax=axes.get_yticks().max(),colors='black',linestyles='dashed',)\n",
    "\n",
    "    # Título y nombre ejes\n",
    "    axes.set_xlabel('fecha')\n",
    "    axes.set_ylabel('Media_NumeroDeBus')\n",
    "    axes.set_title(\n",
    "        label=f'Evolución núm. autobuses ({media})\\nLÍNEA {lineaPublico}: {cartel_linea}', pad=20)\n",
    "\n",
    "    axes.grid(color=\"#172a3d\", linestyle='dashed', linewidth=0.5, axis='x', alpha=0.15)\n",
    "    leg = axes.legend(bbox_to_anchor=(1.025, 1), loc=2, borderaxespad=0)\n",
    "\n",
    "\n",
    "    if guardar:\n",
    "        plt.savefig(fname=f'images/LÍNEA_{num_linea}_{franja}_{cartel_linea}.jpg',\n",
    "                    format='jpg', bbox_inches='tight', dpi=200)\n",
    "\n",
    "    fig.set_facecolor('white')\n",
    "    \n",
    "    plt.show()\n"
   ]
  },
  {
   "cell_type": "code",
   "execution_count": 43,
   "metadata": {},
   "outputs": [
    {
     "data": {
      "image/png": "[encoded data removed]",
      "text/plain": [
       "<Figure size 750x375 with 1 Axes>"
      ]
     },
     "metadata": {},
     "output_type": "display_data"
    }
   ],
   "source": [
    "graficar(dataset=oferta,num_linea=25,franja='H07',media='MediaCochesLaborables')"
   ]
  },
  {
   "cell_type": "code",
   "execution_count": 44,
   "metadata": {},
   "outputs": [],
   "source": [
    "coches_mes = oferta\\\n",
    "                    .drop_duplicates(['CLinea','fechaCorta','IDFranja'])\\\n",
    "                        .reset_index(drop=True)\\\n",
    "                        .loc[:,['CLinea','FServicio','IDFranja','MediaCochesMes','MediaCochesLaborables']].copy()"
   ]
  },
  {
   "cell_type": "code",
   "execution_count": 45,
   "metadata": {},
   "outputs": [],
   "source": [
    "# Creo una key única que es de la forma `CLinea_IDFranja_NombreMes_Año`\n",
    "for index in range(0,3):\n",
    "    coches_mes[f'key_{index}'] = coches_mes['CLinea'].astype(str).str.zfill(3)\\\n",
    "                +'_'+coches_mes['IDFranja']\\\n",
    "                +'_'+coches_mes['FServicio'].dt.month_name()\\\n",
    "                +'_'+ (coches_mes['FServicio'].dt.year-index).astype(str)"
   ]
  },
  {
   "cell_type": "code",
   "execution_count": 46,
   "metadata": {},
   "outputs": [
    {
     "data": {
      "text/html": [
       "<div>\n",
       "<style scoped>\n",
       "    .dataframe tbody tr th:only-of-type {\n",
       "        vertical-align: middle;\n",
       "    }\n",
       "\n",
       "    .dataframe tbody tr th {\n",
       "        vertical-align: top;\n",
       "    }\n",
       "\n",
       "    .dataframe thead th {\n",
       "        text-align: right;\n",
       "    }\n",
       "</style>\n",
       "<table border=\"1\" class=\"dataframe\">\n",
       "  <thead>\n",
       "    <tr style=\"text-align: right;\">\n",
       "      <th></th>\n",
       "      <th>CLinea</th>\n",
       "      <th>FServicio</th>\n",
       "      <th>IDFranja</th>\n",
       "      <th>MediaCochesMes</th>\n",
       "      <th>MediaCochesLaborables</th>\n",
       "      <th>key_0</th>\n",
       "      <th>key_1</th>\n",
       "      <th>key_2</th>\n",
       "    </tr>\n",
       "  </thead>\n",
       "  <tbody>\n",
       "    <tr>\n",
       "      <th>0</th>\n",
       "      <td>1</td>\n",
       "      <td>2019-01-01</td>\n",
       "      <td>H07</td>\n",
       "      <td>5.580645</td>\n",
       "      <td>5.580645</td>\n",
       "      <td>001_H07_January_2019</td>\n",
       "      <td>001_H07_January_2018</td>\n",
       "      <td>001_H07_January_2017</td>\n",
       "    </tr>\n",
       "    <tr>\n",
       "      <th>1</th>\n",
       "      <td>1</td>\n",
       "      <td>2019-01-01</td>\n",
       "      <td>H08</td>\n",
       "      <td>6.580645</td>\n",
       "      <td>6.580645</td>\n",
       "      <td>001_H08_January_2019</td>\n",
       "      <td>001_H08_January_2018</td>\n",
       "      <td>001_H08_January_2017</td>\n",
       "    </tr>\n",
       "  </tbody>\n",
       "</table>\n",
       "</div>"
      ],
      "text/plain": [
       "   CLinea  FServicio IDFranja  MediaCochesMes  MediaCochesLaborables  \\\n",
       "0       1 2019-01-01      H07        5.580645               5.580645   \n",
       "1       1 2019-01-01      H08        6.580645               6.580645   \n",
       "\n",
       "                  key_0                 key_1                 key_2  \n",
       "0  001_H07_January_2019  001_H07_January_2018  001_H07_January_2017  \n",
       "1  001_H08_January_2019  001_H08_January_2018  001_H08_January_2017  "
      ]
     },
     "execution_count": 46,
     "metadata": {},
     "output_type": "execute_result"
    }
   ],
   "source": [
    "coches_mes.head(2)"
   ]
  },
  {
   "cell_type": "code",
   "execution_count": 47,
   "metadata": {},
   "outputs": [],
   "source": [
    "# En caso de que ya tenga las columnas las elimino para que no me de problemas\n",
    "indices = [i for i, item in enumerate(coches_mes.columns) if re.search('avg_key_', item)]\n",
    "if len(indices)>0:\n",
    "    coches_mes.drop(coches_mes.columns[indices],axis=1,inplace=True)\n",
    "\n",
    " # VLOOKUP EN PYTHON  \n",
    "for idx in range(1,3):\n",
    "    coches_mes.insert(len(coches_mes.columns), f'avg_key_{idx}', coches_mes[f'key_{idx}'].map(coches_mes.set_index(f'key_0')['MediaCochesLaborables']))"
   ]
  },
  {
   "cell_type": "code",
   "execution_count": 48,
   "metadata": {},
   "outputs": [
    {
     "data": {
      "text/html": [
       "<div>\n",
       "<style scoped>\n",
       "    .dataframe tbody tr th:only-of-type {\n",
       "        vertical-align: middle;\n",
       "    }\n",
       "\n",
       "    .dataframe tbody tr th {\n",
       "        vertical-align: top;\n",
       "    }\n",
       "\n",
       "    .dataframe thead th {\n",
       "        text-align: right;\n",
       "    }\n",
       "</style>\n",
       "<table border=\"1\" class=\"dataframe\">\n",
       "  <thead>\n",
       "    <tr style=\"text-align: right;\">\n",
       "      <th></th>\n",
       "      <th>CLinea</th>\n",
       "      <th>FServicio</th>\n",
       "      <th>IDFranja</th>\n",
       "      <th>MediaCochesLaborables</th>\n",
       "      <th>MediaCochesMes</th>\n",
       "      <th>avg_key_1</th>\n",
       "      <th>avg_key_2</th>\n",
       "      <th>key_0</th>\n",
       "      <th>key_1</th>\n",
       "      <th>key_2</th>\n",
       "    </tr>\n",
       "  </thead>\n",
       "  <tbody>\n",
       "    <tr>\n",
       "      <th>131968</th>\n",
       "      <td>247</td>\n",
       "      <td>2021-12-04</td>\n",
       "      <td>M00</td>\n",
       "      <td>1.000000</td>\n",
       "      <td>1.000000</td>\n",
       "      <td>1.0</td>\n",
       "      <td>NaN</td>\n",
       "      <td>247_M00_December_2021</td>\n",
       "      <td>247_M00_December_2020</td>\n",
       "      <td>247_M00_December_2019</td>\n",
       "    </tr>\n",
       "    <tr>\n",
       "      <th>124570</th>\n",
       "      <td>111</td>\n",
       "      <td>2021-09-01</td>\n",
       "      <td>M00</td>\n",
       "      <td>1.000000</td>\n",
       "      <td>1.000000</td>\n",
       "      <td>1.0</td>\n",
       "      <td>1.0</td>\n",
       "      <td>111_M00_September_2021</td>\n",
       "      <td>111_M00_September_2020</td>\n",
       "      <td>111_M00_September_2019</td>\n",
       "    </tr>\n",
       "    <tr>\n",
       "      <th>124571</th>\n",
       "      <td>111</td>\n",
       "      <td>2021-10-01</td>\n",
       "      <td>H05</td>\n",
       "      <td>1.000000</td>\n",
       "      <td>1.000000</td>\n",
       "      <td>1.0</td>\n",
       "      <td>1.0</td>\n",
       "      <td>111_H05_October_2021</td>\n",
       "      <td>111_H05_October_2020</td>\n",
       "      <td>111_H05_October_2019</td>\n",
       "    </tr>\n",
       "    <tr>\n",
       "      <th>51694</th>\n",
       "      <td>57</td>\n",
       "      <td>2020-03-01</td>\n",
       "      <td>M00</td>\n",
       "      <td>1.000000</td>\n",
       "      <td>1.000000</td>\n",
       "      <td>1.0</td>\n",
       "      <td>NaN</td>\n",
       "      <td>057_M00_March_2020</td>\n",
       "      <td>057_M00_March_2019</td>\n",
       "      <td>057_M00_March_2018</td>\n",
       "    </tr>\n",
       "    <tr>\n",
       "      <th>72415</th>\n",
       "      <td>44</td>\n",
       "      <td>2020-07-01</td>\n",
       "      <td>M00</td>\n",
       "      <td>1.000000</td>\n",
       "      <td>1.000000</td>\n",
       "      <td>1.0</td>\n",
       "      <td>NaN</td>\n",
       "      <td>044_M00_July_2020</td>\n",
       "      <td>044_M00_July_2019</td>\n",
       "      <td>044_M00_July_2018</td>\n",
       "    </tr>\n",
       "    <tr>\n",
       "      <th>...</th>\n",
       "      <td>...</td>\n",
       "      <td>...</td>\n",
       "      <td>...</td>\n",
       "      <td>...</td>\n",
       "      <td>...</td>\n",
       "      <td>...</td>\n",
       "      <td>...</td>\n",
       "      <td>...</td>\n",
       "      <td>...</td>\n",
       "      <td>...</td>\n",
       "    </tr>\n",
       "    <tr>\n",
       "      <th>130490</th>\n",
       "      <td>167</td>\n",
       "      <td>2021-12-01</td>\n",
       "      <td>H22</td>\n",
       "      <td>4.037037</td>\n",
       "      <td>4.000000</td>\n",
       "      <td>NaN</td>\n",
       "      <td>NaN</td>\n",
       "      <td>167_H22_December_2021</td>\n",
       "      <td>167_H22_December_2020</td>\n",
       "      <td>167_H22_December_2019</td>\n",
       "    </tr>\n",
       "    <tr>\n",
       "      <th>130491</th>\n",
       "      <td>167</td>\n",
       "      <td>2021-12-01</td>\n",
       "      <td>H23</td>\n",
       "      <td>3.115385</td>\n",
       "      <td>3.068966</td>\n",
       "      <td>NaN</td>\n",
       "      <td>NaN</td>\n",
       "      <td>167_H23_December_2021</td>\n",
       "      <td>167_H23_December_2020</td>\n",
       "      <td>167_H23_December_2019</td>\n",
       "    </tr>\n",
       "    <tr>\n",
       "      <th>130492</th>\n",
       "      <td>167</td>\n",
       "      <td>2021-12-01</td>\n",
       "      <td>M00</td>\n",
       "      <td>1.000000</td>\n",
       "      <td>1.000000</td>\n",
       "      <td>NaN</td>\n",
       "      <td>NaN</td>\n",
       "      <td>167_M00_December_2021</td>\n",
       "      <td>167_M00_December_2020</td>\n",
       "      <td>167_M00_December_2019</td>\n",
       "    </tr>\n",
       "    <tr>\n",
       "      <th>131873</th>\n",
       "      <td>247</td>\n",
       "      <td>2021-07-03</td>\n",
       "      <td>M00</td>\n",
       "      <td>1.000000</td>\n",
       "      <td>1.000000</td>\n",
       "      <td>NaN</td>\n",
       "      <td>NaN</td>\n",
       "      <td>247_M00_July_2021</td>\n",
       "      <td>247_M00_July_2020</td>\n",
       "      <td>247_M00_July_2019</td>\n",
       "    </tr>\n",
       "    <tr>\n",
       "      <th>131911</th>\n",
       "      <td>247</td>\n",
       "      <td>2021-09-04</td>\n",
       "      <td>M00</td>\n",
       "      <td>1.000000</td>\n",
       "      <td>1.000000</td>\n",
       "      <td>NaN</td>\n",
       "      <td>NaN</td>\n",
       "      <td>247_M00_September_2021</td>\n",
       "      <td>247_M00_September_2020</td>\n",
       "      <td>247_M00_September_2019</td>\n",
       "    </tr>\n",
       "  </tbody>\n",
       "</table>\n",
       "<p>112860 rows × 10 columns</p>\n",
       "</div>"
      ],
      "text/plain": [
       "        CLinea  FServicio IDFranja  MediaCochesLaborables  MediaCochesMes  \\\n",
       "131968     247 2021-12-04      M00               1.000000        1.000000   \n",
       "124570     111 2021-09-01      M00               1.000000        1.000000   \n",
       "124571     111 2021-10-01      H05               1.000000        1.000000   \n",
       "51694       57 2020-03-01      M00               1.000000        1.000000   \n",
       "72415       44 2020-07-01      M00               1.000000        1.000000   \n",
       "...        ...        ...      ...                    ...             ...   \n",
       "130490     167 2021-12-01      H22               4.037037        4.000000   \n",
       "130491     167 2021-12-01      H23               3.115385        3.068966   \n",
       "130492     167 2021-12-01      M00               1.000000        1.000000   \n",
       "131873     247 2021-07-03      M00               1.000000        1.000000   \n",
       "131911     247 2021-09-04      M00               1.000000        1.000000   \n",
       "\n",
       "        avg_key_1  avg_key_2                   key_0                   key_1  \\\n",
       "131968        1.0        NaN   247_M00_December_2021   247_M00_December_2020   \n",
       "124570        1.0        1.0  111_M00_September_2021  111_M00_September_2020   \n",
       "124571        1.0        1.0    111_H05_October_2021    111_H05_October_2020   \n",
       "51694         1.0        NaN      057_M00_March_2020      057_M00_March_2019   \n",
       "72415         1.0        NaN       044_M00_July_2020       044_M00_July_2019   \n",
       "...           ...        ...                     ...                     ...   \n",
       "130490        NaN        NaN   167_H22_December_2021   167_H22_December_2020   \n",
       "130491        NaN        NaN   167_H23_December_2021   167_H23_December_2020   \n",
       "130492        NaN        NaN   167_M00_December_2021   167_M00_December_2020   \n",
       "131873        NaN        NaN       247_M00_July_2021       247_M00_July_2020   \n",
       "131911        NaN        NaN  247_M00_September_2021  247_M00_September_2020   \n",
       "\n",
       "                         key_2  \n",
       "131968   247_M00_December_2019  \n",
       "124570  111_M00_September_2019  \n",
       "124571    111_H05_October_2019  \n",
       "51694       057_M00_March_2018  \n",
       "72415        044_M00_July_2018  \n",
       "...                        ...  \n",
       "130490   167_H22_December_2019  \n",
       "130491   167_H23_December_2019  \n",
       "130492   167_M00_December_2019  \n",
       "131873       247_M00_July_2019  \n",
       "131911  247_M00_September_2019  \n",
       "\n",
       "[112860 rows x 10 columns]"
      ]
     },
     "execution_count": 48,
     "metadata": {},
     "output_type": "execute_result"
    }
   ],
   "source": [
    "coches_mes = coches_mes[sorted(coches_mes.columns)]\n",
    "coches_mes[coches_mes['CLinea']<310].sort_values(by='avg_key_1',ascending=True)"
   ]
  },
  {
   "cell_type": "markdown",
   "metadata": {},
   "source": [
    "# POSIBLE IDEA\n",
    "Para poder comparar las líneas, podemos hacer una media nueva sobre las horas puntas de la mañana (de H07 hasta las H09).\n",
    "\n",
    "Al reducir a esas franjas horarias, son las franjas horarias de mayor afluencia se Comunidad de Madrid, eliminamos la columna de `IDFranja` y podemos crear un nuevo dataframe más simple de la forma siguiente:\n",
    "\n",
    "| Línea | AVG_2019 | AVG_2020 | AVG_2021 |\n",
    "| ----- | -------- | -------- | -------- |\n",
    "|  25   |    X     |    Y     |     Z    |\n",
    "\n",
    "Calcular para cada linea y franja horaria la diferencia de autobuses por mes para cada año \n",
    "\n",
    "| Línea |   Fecha    | Diff.AñoAnterior |\n",
    "|-------|   -------  |------------------|\n",
    "|   1   | enero.2020 |       10%        |\n",
    "|   1   | enero.2021 |       -5%        |\n",
    "\n",
    "\n",
    "#### Duda\n",
    "Si quisiera mirar la línea que mayor diferencia ha tenido (sin tener en consideración la pandemia) me saldría ordenado por franjas horarias, pero no por linea y franja."
   ]
  },
  {
   "cell_type": "markdown",
   "metadata": {},
   "source": [
    "# Hora punta Madrid\n",
    "Según el informe anual de [2018 de CRTM](https://www.crtm.es/media/712934/edm18_sintesis.pdf#page=54) y [Encuesta Sintética de Movilidad - ESM14](https://www.crtm.es/media/519661/esm_2014.pdf) las franjas horarias quedan de la siguiente manera:\n",
    "\n",
    "- La hora punta de la mañana es la comprendida entre las 08h-09h.\n",
    "- El periodo valle se produce entra las 10h-13h.\n",
    "- La hora punta del mediodía es la comprendida entre las 14h-15h.\n",
    "- La hora punta del mediodía es la comprendida entre las 17h-20h.\n",
    "\n",
    "_Los viajes por movilidad ocupacional, trabajo y estudios, se producen en dos periodos concretos, entre las 6h y las 9h de la mañana y entre la 13h y las 15 h de la tarde. Existe otro pico entre las 16h y las 18h relacionado con la salida de los centros escolares o el fin de la jornada laboral._\n",
    "\n",
    "\n",
    "![Distribución horaria de los viajeros según su actividad](markdown_images/distribución_horaria_viajeros_actividad.png)"
   ]
  },
  {
   "cell_type": "code",
   "execution_count": 49,
   "metadata": {},
   "outputs": [],
   "source": [
    "# Esto seguro que puedo dejarlo en un mismo dataframe\n",
    "diurnas_regulares = oferta[oferta['CLinea']<500]\n",
    "\n",
    "horapunta = diurnas_regulares[(diurnas_regulares['IDFranja']=='H07')\\\n",
    "                              | (diurnas_regulares['IDFranja']=='H08')\\\n",
    "                              | (diurnas_regulares['IDFranja']=='H09')].copy()"
   ]
  },
  {
   "cell_type": "code",
   "execution_count": null,
   "metadata": {},
   "outputs": [],
   "source": [
    "horapunta['MediaCochesHoraPunta'] = horapunta.groupby(by=['CLinea', 'fechaCorta'])['MediaCochesLaborables'].transform('mean')\n",
    "horapunta.drop_duplicates(['CLinea','fechaCorta'],inplace=True)"
   ]
  },
  {
   "cell_type": "code",
   "execution_count": null,
   "metadata": {},
   "outputs": [],
   "source": [
    "horapunta"
   ]
  },
  {
   "cell_type": "code",
   "execution_count": null,
   "metadata": {},
   "outputs": [],
   "source": [
    "horapunta.reset_index(drop=True,inplace=True)\n",
    "horapunta['IDFranja'] = 'H07-H09'\n",
    "\n",
    "graficar(horapunta,num_linea=25,franja='H07-H09',media='MediaCochesMes') # [MediaCochesMes, MediaCochesLaborables, MediaCochesHoraPunta]"
   ]
  },
  {
   "cell_type": "code",
   "execution_count": null,
   "metadata": {},
   "outputs": [],
   "source": [
    "####################\n",
    "# ESTO SON PRUEBAS #\n",
    "####################\n",
    "\n",
    "# tmp = media_buses.copy()\n",
    "# tmp['mes'] = tmp['FServicio'].dt.month\n",
    "# tmp['year'] = tmp['FServicio'].dt.year\n",
    "# tmp['key_1'] = tmp['CLinea'].astype(str).str.zfill(3)+tmp['IDFranja']+tmp['mes'].astype(str)+tmp['year'].astype(str)\n",
    "# tmp['key_2'] = tmp['CLinea'].astype(str).str.zfill(3)+tmp['IDFranja']+tmp['mes'].astype(str)+(tmp['year']-1).astype(str)\n",
    "# tmp['key_3'] = tmp['CLinea'].astype(str).str.zfill(3)+tmp['IDFranja']+tmp['mes'].astype(str)+(tmp['year']-2).astype(str)\n",
    "# tmp2 = tmp.loc[:,['key_1','key_2','key_3','FServicio','fechaCorta','CLinea','IDFranja','avg_coches']]\n",
    "\n",
    "# # https://stackoverflow.com/questions/41511730/python-function-similar-to-vlookup-excel\n",
    "# if 'avg_key_2' in tmp2.columns:\n",
    "#     tmp2.drop(columns=['avg_key_2'],inplace=True)\n",
    "# if 'avg_key_3' in tmp2.columns:\n",
    "#     tmp2.drop(columns=['avg_key_3'],inplace=True)\n",
    "\n",
    "# tmp2.insert(len(tmp2.columns), 'avg_key_2', tmp2['key_2'].map(tmp2.set_index('key_1')['avg_coches']))\n",
    "# tmp2.insert(len(tmp2.columns), 'avg_key_3', tmp2['key_3'].map(tmp2.set_index('key_1')['avg_coches']))\n",
    "# # tmp2.fillna(0,inplace=True)\n",
    "# tmp2.reset_index(inplace=True,drop=True)\n",
    "# tmp2['diff_key1_key2'] = (tmp2['avg_coches']-tmp2['avg_key_2'])\n",
    "# tmp2['diff_key1_key3'] = (tmp2['avg_coches']-tmp2['avg_key_3'])\n",
    "# tmp2.sort_values(by='diff_key1_key3')\n",
    "# tmp3 = tmp2[tmp2['FServicio'].dt.year!=2020].sort_values(by='diff')\n",
    "# tmp3 = tmp3[tmp3['CLinea']<500]\n",
    "# tmp3['diff'].fillna(0,inplace=True)\n",
    "# dff = tmp2.sort_values(by='diff_key1_key3').reset_index(drop=True).loc[0,:]\n",
    "# graficar(num_linea=dff['CLinea'],franja=dff['IDFranja'])"
   ]
  },
  {
   "cell_type": "markdown",
   "metadata": {},
   "source": [
    "# Líneas con mayor afluencia de pasajeros\n",
    "Según este tweet de [@EMTmadrid](https://twitter.com/emtmadrid/status/956855958369701889?lang=es) las líneas con mayor demanda en 2017 son: L34, L27, L70, C1, C2, L31, L28, L35 y L17.\n",
    "\n",
    "La demanda de estas líneas supone un 26.5% del total, equivalente 113 millones de pasajeros en dicho año."
   ]
  },
  {
   "cell_type": "code",
   "execution_count": null,
   "metadata": {},
   "outputs": [],
   "source": [
    "numero_viajeros = pd.read_csv('datos/Grado_de_Ocupación/numero_viajeros.csv')\n",
    "aclaraciones = pd.read_csv('datos/Grado_de_Ocupación/aclaraciones_ocupacion_lineas.csv')"
   ]
  },
  {
   "cell_type": "code",
   "execution_count": null,
   "metadata": {},
   "outputs": [],
   "source": [
    "ranking = numero_viajeros.iloc[:,:3].copy()"
   ]
  },
  {
   "cell_type": "code",
   "execution_count": null,
   "metadata": {},
   "outputs": [],
   "source": [
    "for year in range(2014,int(numero_viajeros.columns[-1])):\n",
    "    rank = numero_viajeros.loc[:,['Código',str(year)]].sort_values(by=[str(year)], ascending=False)\n",
    "    rank[str(year)] = rank.reset_index().index+1\n",
    "    # numero_viajeros[str(year)].sort_values(ascending=False).reset_index().rename(columns={'index':'Código'})\n",
    "    ranking = ranking.merge(rank)"
   ]
  },
  {
   "cell_type": "code",
   "execution_count": null,
   "metadata": {},
   "outputs": [],
   "source": [
    "data = ranking.sort_values(by='2021').iloc[0:10,:]\n",
    "\n",
    "fig, axes = plt.subplots(figsize=(8, 5),dpi=100)\n",
    "axes.spines.right.set_visible(False)\n",
    "axes.spines.top.set_visible(False)\n",
    "\n",
    "# Visualizo los datos (avg_coches) y fechas\n",
    "\n",
    "years = data.columns[3:]\n",
    "axes.plot(years,data.iloc[:,3:].T,'-o',label=data['Etiqueta'] + ' | ' +data['Denominación'])\n",
    "\n",
    "# Título y nombre ejes\n",
    "# axes.set_xlabel('Años')\n",
    "axes.set_ylabel('Posición')\n",
    "axes.set_title(label=f'Ranking líneas con mayor usuarios',pad=20)\n",
    "   \n",
    "axes.set_xticks(range(0,len(years)))\n",
    "axes.set_xticklabels(years)\n",
    "axes.set_ylim(0,11)\n",
    "axes.set_yticks(range(1,11))\n",
    "axes.invert_yaxis()\n",
    "\n",
    "axes.grid(color=\"#172a3d\", linestyle='--', linewidth=1, axis='y', alpha=0.15)\n",
    "axes.legend(bbox_to_anchor=(1.025, 1), loc=2, borderaxespad=0)\n",
    "fig.set_facecolor('white')\n",
    "plt.show()"
   ]
  },
  {
   "cell_type": "markdown",
   "metadata": {},
   "source": [
    "# Aclaraciones\n",
    "\n",
    "|    |   Año | Informacion                                                                                 |\n",
    "|---:|------:|:--------------------------------------------------------------------------------------------|\n",
    "|  0 |  2019 | (1)  El Servicio Especial 721 solo funciona los días de evento en el Estadio Metropolitano. |\n",
    "|  1 |  2019 | (2)  El 1 de abril de 2019 el Servicio Especial 722 se transforma en la línea 166.          |\n",
    "|  2 |  2020 | (1)  El Servicio Especial 721 solo funciona los días de evento en el Estadio Metropolitano. |\n",
    "|  3 |  2020 | (2)  El 18 de febrero se crea la línea 361.                                                 |\n",
    "|  4 |  2020 | (3)  El 3 de marzo de 2020 la línea 602 se prolonga y se transforma en la línea 362.        |\n",
    "|  5 |  2020 | (4)  El 16 de marzo de 2020 el Servicio Especial 723 se transforma en la línea 159.         |\n",
    "|  6 |  2020 | (5)  El Servicio Especial 710 funciona del 23 de marzo al 24 de mayo de 2020.               |\n",
    "|  7 |  2020 | (6)  El 15 de septiembre se crea la línea 363.                                              |\n",
    "|  8 |  2020 | (7)  El 7 de octubre se crea el Servicio Especial 712.                                      |\n",
    "|  9 |  2021 | (1)  El Servicio Especial 721 solo funciona los días de evento en el Estadio Metropolitano. |\n",
    "| 10 |  2021 | (2)  El 16 de febrero se crea la línea 167.                                                 |\n",
    "| 11 |  2021 | (3)  El 2 de marzo se crea la línea 163.                                                    |\n",
    "| 12 |  2021 | (4)  El 17 de marzo se crea la línea 405.                                                   |\n",
    "| 13 |  2021 | (5)  El 1 de septiembre se crea el Servicio Especial 708.                                   |\n",
    "\n",
    "\n",
    "\n",
    "Además, hay otras aclaraciones que no se contemplan como el cambio de `Servicio Especial` a  `Regular` de la línea con tramo `MAR DE CRISTAL - VALDEBEBAS`"
   ]
  },
  {
   "cell_type": "code",
   "execution_count": null,
   "metadata": {},
   "outputs": [],
   "source": [
    "pd.concat([numero_viajeros.loc[(numero_viajeros['Código']==171)].sort_values(by='2021',ascending=False),\\\n",
    "            numero_viajeros.loc[(numero_viajeros['Código']==799)].sort_values(by='2021',ascending=False)]\n",
    "            )"
   ]
  },
  {
   "cell_type": "code",
   "execution_count": null,
   "metadata": {},
   "outputs": [],
   "source": [
    "numero_viajeros.loc[(numero_viajeros['Código']==171)].sort_values(by='2021',ascending=False).combine_first(numero_viajeros.loc[(numero_viajeros['Código']==799)].sort_values(by='2021',ascending=False)).iloc[:,3:].max().to_frame().T"
   ]
  },
  {
   "cell_type": "code",
   "execution_count": null,
   "metadata": {},
   "outputs": [],
   "source": [
    "numero_viajeros['media'] = numero_viajeros.iloc[:,3:].apply(lambda x: x.mean(),axis=1)"
   ]
  },
  {
   "cell_type": "code",
   "execution_count": null,
   "metadata": {},
   "outputs": [],
   "source": [
    "numero_viajeros.sort_values(by='media',ascending=False)"
   ]
  },
  {
   "cell_type": "code",
   "execution_count": null,
   "metadata": {},
   "outputs": [],
   "source": [
    "numero_viajeros[numero_viajeros['Etiqueta']=='SE']"
   ]
  },
  {
   "cell_type": "code",
   "execution_count": null,
   "metadata": {},
   "outputs": [],
   "source": [
    "fig, axes = plt.subplots(figsize=(8, 5),dpi=100)\n",
    "# Visualizo los datos (avg_coches) y fechas\n",
    "years = numero_viajeros.columns[3:]\n",
    "\n",
    "\n",
    "axes.plot(numero_viajeros.columns[3:],numero_viajeros[numero_viajeros['Código']==25].iloc[:,3:].T,'-o')\n",
    "axes.grid(color=\"#172a3d\", linestyle='--', linewidth=1, axis='y', alpha=0.15)\n",
    "\n",
    "# Título y nombre ejes\n",
    "axes.set_xlabel('Años')\n",
    "axes.set_ylabel('Núm. viajeros (Millones)')\n",
    "axes.set_title(label=f'Ranking líneas con mayor usuarios',pad=20)\n",
    "   \n",
    "# axes.set_xticks(range(0,len(years)))\n",
    "# axes.set_xticklabels(years)\n",
    "# axes.set_ylim(0,11)\n",
    "# axes.set_yticks(range(1,11))\n",
    "# axes.invert_yaxis()\n",
    "\n",
    "axes.legend(bbox_to_anchor=(1.025, 1), loc=2, borderaxespad=0)\n",
    "fig.set_facecolor('white')\n",
    "plt.show()"
   ]
  }
 ],
 "metadata": {
  "kernelspec": {
   "display_name": "Python 3.9.2 ('geo_env')",
   "language": "python",
   "name": "python3"
  },
  "language_info": {
   "codemirror_mode": {
    "name": "ipython",
    "version": 3
   },
   "file_extension": ".py",
   "mimetype": "text/x-python",
   "name": "python",
   "nbconvert_exporter": "python",
   "pygments_lexer": "ipython3",
   "version": "3.9.2"
  },
  "orig_nbformat": 4,
  "vscode": {
   "interpreter": {
    "hash": "f4a7f70dc0c45dd6b0db4365e3be865e730c7ea53713fd6b0f8241fab5799f87"
   }
  }
 },
 "nbformat": 4,
 "nbformat_minor": 2
}
