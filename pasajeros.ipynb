{
 "cells": [
  {
   "cell_type": "code",
   "execution_count": 1,
   "metadata": {},
   "outputs": [],
   "source": [
    "import pandas as pd\n",
    "import numpy as np\n",
    "import glob\n",
    "from matplotlib.pyplot import figure\n",
    "import matplotlib.pyplot as plt"
   ]
  },
  {
   "cell_type": "code",
   "execution_count": 2,
   "metadata": {},
   "outputs": [],
   "source": [
    "ficheros = glob.glob('datos/Grado_de_Ocupación/Grado_Ocupacion_Lineas_*.xlsx')"
   ]
  },
  {
   "cell_type": "code",
   "execution_count": 3,
   "metadata": {},
   "outputs": [],
   "source": [
    "columnas = {\n",
    "    'Código': 'string',\n",
    "    'Etiqueta': 'string',\n",
    "    'Denominación': 'string',\n",
    "    'enero': 'float',\n",
    "    'febrero': 'float',\n",
    "    'marzo': 'float',\n",
    "    'abril': 'float',\n",
    "    'mayo': 'float',\n",
    "    'junio': 'float',\n",
    "    'julio': 'float',\n",
    "    'agosto': 'float',\n",
    "    'septiembre': 'float',\n",
    "    'octubre': 'float',\n",
    "    'noviembre': 'float',\n",
    "    'diciembre': 'float'\n",
    "}\n"
   ]
  },
  {
   "cell_type": "code",
   "execution_count": 65,
   "metadata": {},
   "outputs": [],
   "source": [
    "aclaraciones = dict()\n",
    "aclaraciones_df = pd.DataFrame(columns=['Año','Informacion'])"
   ]
  },
  {
   "cell_type": "code",
   "execution_count": 66,
   "metadata": {},
   "outputs": [
    {
     "name": "stdout",
     "output_type": "stream",
     "text": [
      "Conjunto de datos nº 0: (187, 16)\n",
      "Conjunto de datos nº 1: (196, 16)\n",
      "Conjunto de datos nº 2: (196, 16)\n"
     ]
    }
   ],
   "source": [
    "# pd.DataFrame(columns=list(columnas.keys()))\n",
    "dfs = list()\n",
    "\n",
    "\n",
    "for idx, fichero in enumerate(ficheros):\n",
    "    tmp = pd.read_excel(fichero,header=None,skiprows=5,names=list(columnas.keys()),index_col=False)\n",
    "    nombre_fichero = fichero.split('\\\\')[-1]\n",
    "    year = (nombre_fichero.split('.')[0].split('_')[-1])\n",
    "    tmp['año'] = year\n",
    "    tmp = tmp.iloc[:,:16]\n",
    "    # tmp.fillna(0,inplace=True)\n",
    "    ultima_fila = tmp[tmp['Denominación'].str.contains(\"Total Red\",na=False)].index.values[0]\n",
    "\n",
    "    # # Quitamos las últimas filas ya que contienen la media de los meses y algunas aclaraciones.\n",
    "    dfs.append(tmp.iloc[:ultima_fila,:])\n",
    "    print('Conjunto de datos nº %s:' % (idx), tmp.shape)\n",
    "    # # Guardamos las aclaraciones en un diccionario por si fuera de interes para su consulta en algún momento.   \n",
    "    tmp_2 = tmp.iloc[ultima_fila+2:,0].apply(pd.Series)\n",
    "    tmp_2['año'] = year\n",
    "    tmp_2.columns = ['Informacion','Año']\n",
    "    aclaraciones_df = aclaraciones_df.append(tmp_2,ignore_index=True)\n",
    "    aclaraciones.update({fichero.split('\\\\')[-1]:list(tmp.iloc[ultima_fila+2:,0])})"
   ]
  },
  {
   "cell_type": "code",
   "execution_count": 67,
   "metadata": {},
   "outputs": [
    {
     "data": {
      "text/html": [
       "<div>\n",
       "<style scoped>\n",
       "    .dataframe tbody tr th:only-of-type {\n",
       "        vertical-align: middle;\n",
       "    }\n",
       "\n",
       "    .dataframe tbody tr th {\n",
       "        vertical-align: top;\n",
       "    }\n",
       "\n",
       "    .dataframe thead th {\n",
       "        text-align: right;\n",
       "    }\n",
       "</style>\n",
       "<table border=\"1\" class=\"dataframe\">\n",
       "  <thead>\n",
       "    <tr style=\"text-align: right;\">\n",
       "      <th></th>\n",
       "      <th>Año</th>\n",
       "      <th>Informacion</th>\n",
       "    </tr>\n",
       "  </thead>\n",
       "  <tbody>\n",
       "    <tr>\n",
       "      <th>0</th>\n",
       "      <td>2019</td>\n",
       "      <td>(1)  El Servicio Especial 721 solo funciona lo...</td>\n",
       "    </tr>\n",
       "    <tr>\n",
       "      <th>1</th>\n",
       "      <td>2019</td>\n",
       "      <td>(2)  El 1 de abril de 2019 el Servicio Especia...</td>\n",
       "    </tr>\n",
       "    <tr>\n",
       "      <th>2</th>\n",
       "      <td>2020</td>\n",
       "      <td>(1)  El Servicio Especial 721 solo funciona lo...</td>\n",
       "    </tr>\n",
       "    <tr>\n",
       "      <th>3</th>\n",
       "      <td>2020</td>\n",
       "      <td>(2)  El 18 de febrero se crea la línea 361.</td>\n",
       "    </tr>\n",
       "    <tr>\n",
       "      <th>4</th>\n",
       "      <td>2020</td>\n",
       "      <td>(3)  El 3 de marzo de 2020 la línea 602 se pro...</td>\n",
       "    </tr>\n",
       "    <tr>\n",
       "      <th>5</th>\n",
       "      <td>2020</td>\n",
       "      <td>(4)  El 16 de marzo de 2020 el Servicio Especi...</td>\n",
       "    </tr>\n",
       "    <tr>\n",
       "      <th>6</th>\n",
       "      <td>2020</td>\n",
       "      <td>(5)  El Servicio Especial 710 funciona del 23 ...</td>\n",
       "    </tr>\n",
       "    <tr>\n",
       "      <th>7</th>\n",
       "      <td>2020</td>\n",
       "      <td>(6)  El 15 de septiembre se crea la línea 363.</td>\n",
       "    </tr>\n",
       "    <tr>\n",
       "      <th>8</th>\n",
       "      <td>2020</td>\n",
       "      <td>(7)  El 7 de octubre se crea el Servicio Espec...</td>\n",
       "    </tr>\n",
       "    <tr>\n",
       "      <th>9</th>\n",
       "      <td>2021</td>\n",
       "      <td>(1)  El Servicio Especial 721 solo funciona lo...</td>\n",
       "    </tr>\n",
       "    <tr>\n",
       "      <th>10</th>\n",
       "      <td>2021</td>\n",
       "      <td>(2)  El 16 de febrero se crea la línea 167.</td>\n",
       "    </tr>\n",
       "    <tr>\n",
       "      <th>11</th>\n",
       "      <td>2021</td>\n",
       "      <td>(3)  El 2 de marzo se crea la línea 163.</td>\n",
       "    </tr>\n",
       "    <tr>\n",
       "      <th>12</th>\n",
       "      <td>2021</td>\n",
       "      <td>(4)  El 17 de marzo se crea la línea 405.</td>\n",
       "    </tr>\n",
       "    <tr>\n",
       "      <th>13</th>\n",
       "      <td>2021</td>\n",
       "      <td>(5)  El 1 de septiembre se crea el Servicio Es...</td>\n",
       "    </tr>\n",
       "  </tbody>\n",
       "</table>\n",
       "</div>"
      ],
      "text/plain": [
       "     Año                                        Informacion\n",
       "0   2019  (1)  El Servicio Especial 721 solo funciona lo...\n",
       "1   2019  (2)  El 1 de abril de 2019 el Servicio Especia...\n",
       "2   2020  (1)  El Servicio Especial 721 solo funciona lo...\n",
       "3   2020        (2)  El 18 de febrero se crea la línea 361.\n",
       "4   2020  (3)  El 3 de marzo de 2020 la línea 602 se pro...\n",
       "5   2020  (4)  El 16 de marzo de 2020 el Servicio Especi...\n",
       "6   2020  (5)  El Servicio Especial 710 funciona del 23 ...\n",
       "7   2020     (6)  El 15 de septiembre se crea la línea 363.\n",
       "8   2020  (7)  El 7 de octubre se crea el Servicio Espec...\n",
       "9   2021  (1)  El Servicio Especial 721 solo funciona lo...\n",
       "10  2021        (2)  El 16 de febrero se crea la línea 167.\n",
       "11  2021           (3)  El 2 de marzo se crea la línea 163.\n",
       "12  2021          (4)  El 17 de marzo se crea la línea 405.\n",
       "13  2021  (5)  El 1 de septiembre se crea el Servicio Es..."
      ]
     },
     "execution_count": 67,
     "metadata": {},
     "output_type": "execute_result"
    }
   ],
   "source": [
    "aclaraciones_df"
   ]
  },
  {
   "cell_type": "code",
   "execution_count": 69,
   "metadata": {},
   "outputs": [],
   "source": [
    "pd.concat(dfs,ignore_index=True).to_csv('datos/Grado_de_Ocupación/ocupacion_lineas.csv',index=False)\n",
    "aclaraciones_df.to_csv('datos/Grado_de_Ocupación/aclaraciones_ocupacion_lineas.csv',index=False)"
   ]
  },
  {
   "cell_type": "code",
   "execution_count": 71,
   "metadata": {},
   "outputs": [],
   "source": [
    "ficheros2 = glob.glob('datos/Grado_de_Ocupación/Evolucion_*.xlsx')"
   ]
  },
  {
   "cell_type": "code",
   "execution_count": 72,
   "metadata": {},
   "outputs": [],
   "source": [
    "viajeros = [pd.read_excel(f,skiprows=5,skipfooter=1) for f in ficheros2]\n",
    "viajeros = pd.concat(viajeros)\n",
    "viajeros.rename(columns={'Unnamed: 2':'Denominación'},inplace=True)\n",
    "viajeros.to_csv('datos/Grado_de_Ocupación/numero_viajeros.csv',index=False)"
   ]
  }
 ],
 "metadata": {
  "kernelspec": {
   "display_name": "Python 3.9.2 ('geo_env')",
   "language": "python",
   "name": "python3"
  },
  "language_info": {
   "codemirror_mode": {
    "name": "ipython",
    "version": 3
   },
   "file_extension": ".py",
   "mimetype": "text/x-python",
   "name": "python",
   "nbconvert_exporter": "python",
   "pygments_lexer": "ipython3",
   "version": "3.9.2"
  },
  "orig_nbformat": 4,
  "vscode": {
   "interpreter": {
    "hash": "f4a7f70dc0c45dd6b0db4365e3be865e730c7ea53713fd6b0f8241fab5799f87"
   }
  }
 },
 "nbformat": 4,
 "nbformat_minor": 2
}
