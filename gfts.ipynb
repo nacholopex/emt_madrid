{
 "cells": [
  {
   "cell_type": "code",
   "execution_count": 1,
   "metadata": {},
   "outputs": [],
   "source": [
    "import requests\n",
    "import pandas as pd\n",
    "import glob"
   ]
  },
  {
   "cell_type": "markdown",
   "metadata": {},
   "source": [
    "Descargar Calendar_Dates"
   ]
  },
  {
   "cell_type": "code",
   "execution_count": 2,
   "metadata": {},
   "outputs": [],
   "source": [
    "# https://transitfeeds.com/p/emt-madrid/212/20190108/\n",
    "# https://developers.google.com/transit/gtfs/reference#tripstxt\n",
    "enlace = 'https://openmobilitydata-data.s3-us-west-1.amazonaws.com/public/feeds/emt-madrid/212/' #20190108/original/calendar_dates.txt\n",
    "fechas = pd.date_range(start=\"2019-01-01\",end=\"2022-01-01\")\n",
    "for fecha in fechas:\n",
    "    try:\n",
    "        fecha = fecha.strftime('%Y%m%d')\n",
    "        direccion = f'{enlace}{fecha}/original/calendar_dates.txt'\n",
    "        response = requests.get(url=direccion)\n",
    "        if(response.status_code==200):\n",
    "            with open(f\"gfts_datos/calendar_dates/{fecha}.csv\", \"w+\") as f:\n",
    "                f.write(response.text.replace('\\n\\n', ''))\n",
    "    except:\n",
    "        pass"
   ]
  },
  {
   "cell_type": "code",
   "execution_count": 4,
   "metadata": {},
   "outputs": [],
   "source": [
    "ficheros = glob.glob('datos/GFTS/calendar_dates/*.csv')"
   ]
  },
  {
   "cell_type": "code",
   "execution_count": 5,
   "metadata": {},
   "outputs": [],
   "source": [
    "dfs = [pd.read_csv(f, header=0, sep=\",\") for f in ficheros]\n",
    "df = pd.concat(dfs,ignore_index=True)"
   ]
  },
  {
   "cell_type": "code",
   "execution_count": 6,
   "metadata": {},
   "outputs": [],
   "source": [
    "df.drop_duplicates().reset_index(inplace=True,drop=True)"
   ]
  },
  {
   "cell_type": "code",
   "execution_count": 9,
   "metadata": {},
   "outputs": [],
   "source": [
    "df['date_formated'] = pd.to_datetime(df['date'],format='%Y%m%d') \n",
    "df = df[df['date_formated'].dt.year>=2019]\n",
    "df.to_csv('datos/GFTS/gfts_calendar_dates.csv',index=False)"
   ]
  },
  {
   "cell_type": "code",
   "execution_count": 8,
   "metadata": {},
   "outputs": [
    {
     "data": {
      "text/plain": [
       "FE    1326\n",
       "LA    1087\n",
       "SA     239\n",
       "SE      16\n",
       "Name: service_id, dtype: int64"
      ]
     },
     "execution_count": 8,
     "metadata": {},
     "output_type": "execute_result"
    }
   ],
   "source": [
    "# LA => LABORABLE\n",
    "# SA => SÁBADO\n",
    "# FE => FESTIVO / DOMINGO\n",
    "# SE => SERVICIO ESPECIAL\n",
    "# LJ => LUNES A JUEVES\n",
    "# VV => VIERNES\n",
    "\n",
    "df.service_id.value_counts()"
   ]
  },
  {
   "cell_type": "code",
   "execution_count": 101,
   "metadata": {},
   "outputs": [
    {
     "data": {
      "text/html": [
       "<div>\n",
       "<style scoped>\n",
       "    .dataframe tbody tr th:only-of-type {\n",
       "        vertical-align: middle;\n",
       "    }\n",
       "\n",
       "    .dataframe tbody tr th {\n",
       "        vertical-align: top;\n",
       "    }\n",
       "\n",
       "    .dataframe thead th {\n",
       "        text-align: right;\n",
       "    }\n",
       "</style>\n",
       "<table border=\"1\" class=\"dataframe\">\n",
       "  <thead>\n",
       "    <tr style=\"text-align: right;\">\n",
       "      <th></th>\n",
       "      <th>service_id</th>\n",
       "      <th>date</th>\n",
       "      <th>exception_type</th>\n",
       "      <th>date_formated</th>\n",
       "    </tr>\n",
       "  </thead>\n",
       "  <tbody>\n",
       "    <tr>\n",
       "      <th>686</th>\n",
       "      <td>SE</td>\n",
       "      <td>20191115</td>\n",
       "      <td>2</td>\n",
       "      <td>2019-11-15</td>\n",
       "    </tr>\n",
       "    <tr>\n",
       "      <th>687</th>\n",
       "      <td>SE</td>\n",
       "      <td>20191116</td>\n",
       "      <td>2</td>\n",
       "      <td>2019-11-16</td>\n",
       "    </tr>\n",
       "    <tr>\n",
       "      <th>688</th>\n",
       "      <td>SE</td>\n",
       "      <td>20191117</td>\n",
       "      <td>1</td>\n",
       "      <td>2019-11-17</td>\n",
       "    </tr>\n",
       "    <tr>\n",
       "      <th>689</th>\n",
       "      <td>SE</td>\n",
       "      <td>20191118</td>\n",
       "      <td>1</td>\n",
       "      <td>2019-11-18</td>\n",
       "    </tr>\n",
       "    <tr>\n",
       "      <th>690</th>\n",
       "      <td>SE</td>\n",
       "      <td>20191119</td>\n",
       "      <td>1</td>\n",
       "      <td>2019-11-19</td>\n",
       "    </tr>\n",
       "    <tr>\n",
       "      <th>691</th>\n",
       "      <td>SE</td>\n",
       "      <td>20191120</td>\n",
       "      <td>1</td>\n",
       "      <td>2019-11-20</td>\n",
       "    </tr>\n",
       "    <tr>\n",
       "      <th>692</th>\n",
       "      <td>SE</td>\n",
       "      <td>20191121</td>\n",
       "      <td>1</td>\n",
       "      <td>2019-11-21</td>\n",
       "    </tr>\n",
       "    <tr>\n",
       "      <th>693</th>\n",
       "      <td>SE</td>\n",
       "      <td>20191122</td>\n",
       "      <td>1</td>\n",
       "      <td>2019-11-22</td>\n",
       "    </tr>\n",
       "    <tr>\n",
       "      <th>694</th>\n",
       "      <td>SE</td>\n",
       "      <td>20191123</td>\n",
       "      <td>1</td>\n",
       "      <td>2019-11-23</td>\n",
       "    </tr>\n",
       "    <tr>\n",
       "      <th>695</th>\n",
       "      <td>SE</td>\n",
       "      <td>20191124</td>\n",
       "      <td>1</td>\n",
       "      <td>2019-11-24</td>\n",
       "    </tr>\n",
       "    <tr>\n",
       "      <th>696</th>\n",
       "      <td>SE</td>\n",
       "      <td>20191125</td>\n",
       "      <td>2</td>\n",
       "      <td>2019-11-25</td>\n",
       "    </tr>\n",
       "    <tr>\n",
       "      <th>697</th>\n",
       "      <td>SE</td>\n",
       "      <td>20191126</td>\n",
       "      <td>2</td>\n",
       "      <td>2019-11-26</td>\n",
       "    </tr>\n",
       "    <tr>\n",
       "      <th>698</th>\n",
       "      <td>SE</td>\n",
       "      <td>20191127</td>\n",
       "      <td>2</td>\n",
       "      <td>2019-11-27</td>\n",
       "    </tr>\n",
       "    <tr>\n",
       "      <th>699</th>\n",
       "      <td>SE</td>\n",
       "      <td>20191128</td>\n",
       "      <td>2</td>\n",
       "      <td>2019-11-28</td>\n",
       "    </tr>\n",
       "    <tr>\n",
       "      <th>700</th>\n",
       "      <td>SE</td>\n",
       "      <td>20191129</td>\n",
       "      <td>2</td>\n",
       "      <td>2019-11-29</td>\n",
       "    </tr>\n",
       "    <tr>\n",
       "      <th>701</th>\n",
       "      <td>SE</td>\n",
       "      <td>20191130</td>\n",
       "      <td>2</td>\n",
       "      <td>2019-11-30</td>\n",
       "    </tr>\n",
       "  </tbody>\n",
       "</table>\n",
       "</div>"
      ],
      "text/plain": [
       "    service_id      date  exception_type date_formated\n",
       "686         SE  20191115               2    2019-11-15\n",
       "687         SE  20191116               2    2019-11-16\n",
       "688         SE  20191117               1    2019-11-17\n",
       "689         SE  20191118               1    2019-11-18\n",
       "690         SE  20191119               1    2019-11-19\n",
       "691         SE  20191120               1    2019-11-20\n",
       "692         SE  20191121               1    2019-11-21\n",
       "693         SE  20191122               1    2019-11-22\n",
       "694         SE  20191123               1    2019-11-23\n",
       "695         SE  20191124               1    2019-11-24\n",
       "696         SE  20191125               2    2019-11-25\n",
       "697         SE  20191126               2    2019-11-26\n",
       "698         SE  20191127               2    2019-11-27\n",
       "699         SE  20191128               2    2019-11-28\n",
       "700         SE  20191129               2    2019-11-29\n",
       "701         SE  20191130               2    2019-11-30"
      ]
     },
     "execution_count": 101,
     "metadata": {},
     "output_type": "execute_result"
    }
   ],
   "source": [
    "df = df[df['service_id']=='SE']"
   ]
  }
 ],
 "metadata": {
  "kernelspec": {
   "display_name": "Python 3.9.2 ('geo_env')",
   "language": "python",
   "name": "python3"
  },
  "language_info": {
   "codemirror_mode": {
    "name": "ipython",
    "version": 3
   },
   "file_extension": ".py",
   "mimetype": "text/x-python",
   "name": "python",
   "nbconvert_exporter": "python",
   "pygments_lexer": "ipython3",
   "version": "3.9.2"
  },
  "orig_nbformat": 4,
  "vscode": {
   "interpreter": {
    "hash": "f4a7f70dc0c45dd6b0db4365e3be865e730c7ea53713fd6b0f8241fab5799f87"
   }
  }
 },
 "nbformat": 4,
 "nbformat_minor": 2
}
